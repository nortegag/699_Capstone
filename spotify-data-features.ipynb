{
 "metadata": {
  "language_info": {
   "codemirror_mode": {
    "name": "ipython",
    "version": 3
   },
   "file_extension": ".py",
   "mimetype": "text/x-python",
   "name": "python",
   "nbconvert_exporter": "python",
   "pygments_lexer": "ipython3",
   "version": "3.8.5-final"
  },
  "orig_nbformat": 2,
  "kernelspec": {
   "name": "python3",
   "language": "python",
   "display_name": "Python 3"
  }
 },
 "nbformat": 4,
 "nbformat_minor": 2,
 "cells": [
  {
   "cell_type": "code",
   "execution_count": 28,
   "metadata": {},
   "outputs": [],
   "source": [
    "import spotipy\n",
    "from spotipy.oauth2 import SpotifyClientCredentials\n",
    "import sys\n",
    "import os\n",
    "import pprint\n",
    "\n",
    "import pandas as pd\n",
    "import numpy as np\n",
    "import re\n",
    "\n",
    "from tqdm.notebook import tqdm"
   ]
  },
  {
   "cell_type": "code",
   "execution_count": 29,
   "metadata": {},
   "outputs": [],
   "source": [
    "## Set environment variables\n",
    "os.environ['SPOTIPY_CLIENT_ID'] = ''\n",
    "os.environ['SPOTIPY_CLIENT_SECRET'] = ''"
   ]
  },
  {
   "cell_type": "code",
   "execution_count": 32,
   "metadata": {},
   "outputs": [],
   "source": [
    "## let's read in our DF with song id's to make API calls\n",
    "spotify_df = pd.read_csv(\"data/dataSpotifyJW.csv\") ## change to the dataSpotifyJW.csv file"
   ]
  },
  {
   "cell_type": "code",
   "execution_count": 35,
   "metadata": {},
   "outputs": [
    {
     "data": {
      "text/plain": "23320"
     },
     "execution_count": 35,
     "metadata": {},
     "output_type": "execute_result"
    }
   ],
   "source": [
    "## let's check out how many uniqued SongID's there are\n",
    "len(spotify_df.SongID)"
   ]
  },
  {
   "cell_type": "code",
   "execution_count": 36,
   "metadata": {},
   "outputs": [
    {
     "name": "stdout",
     "output_type": "stream",
     "text": [
      "Number of SongIDs: 23320\n",
      "Number of unique IDs: 23146\n"
     ]
    }
   ],
   "source": [
    "## get an array with our SongID (we should probably get unique IDs and then match them)\n",
    "song_ids = spotify_df[\"SongID\"].values\n",
    "print(f\"Number of SongIDs: {len(song_ids)}\\nNumber of unique IDs: {len(set(song_ids))}\")"
   ]
  },
  {
   "cell_type": "code",
   "execution_count": 37,
   "metadata": {},
   "outputs": [
    {
     "data": {
      "text/plain": "array(['3YOhXYCLFRQxEmUlzjiWEJ', '53RfjM48r9xNywpDiog6zG',\n       '73vcZCFNErwqHxuS1BXH0e', ..., '0qBxAcenqF2lwbGi0HRZpW',\n       '3O9TJ95zrSqlg5Qk9BBq4V', '0xpLHUe3nyQO1ObHNJWSsB'], dtype=object)"
     },
     "execution_count": 37,
     "metadata": {},
     "output_type": "execute_result"
    }
   ],
   "source": [
    "song_ids"
   ]
  },
  {
   "cell_type": "code",
   "execution_count": 38,
   "metadata": {},
   "outputs": [],
   "source": [
    "## making search API call\n",
    "sp = spotipy.Spotify(client_credentials_manager=SpotifyClientCredentials())\n",
    "\n",
    "demo_id = \"7lmeHLHBe4nmXzuXc0HDjk\"\n",
    "demo_id2 = \"7lmeHLHBe4nmXzuXc0HDjk\"\n",
    "results = sp.audio_features(tracks=[demo_id, demo_id2])"
   ]
  },
  {
   "cell_type": "code",
   "execution_count": 39,
   "metadata": {},
   "outputs": [],
   "source": [
    "# results[0]"
   ]
  },
  {
   "cell_type": "code",
   "execution_count": 40,
   "metadata": {},
   "outputs": [
    {
     "data": {
      "text/plain": "  0%|          | 0/234 [00:00<?, ?it/s]",
      "application/vnd.jupyter.widget-view+json": {
       "version_major": 2,
       "version_minor": 0,
       "model_id": "c6f6383a2c404d30b20ed5ce4a250a73"
      }
     },
     "metadata": {},
     "output_type": "display_data"
    }
   ],
   "source": [
    "## let's make the API call for every 100 songs, since that's the limit of tracks for a single API call\n",
    "\n",
    "## we have some NaNs from our response on the Search API (type float), so filter those id's that are nan (keep only strings) --> we end up with 8500 id's\n",
    "filtered_ids = [i for i in song_ids if type(i) == str]\n",
    "\n",
    "## let's turn the big list of ids into chunks of 100, since the tracks API call has a max 100 ids you can pass as an argument\n",
    "chunks = [filtered_ids[x:x+100] for x in range(0, len(filtered_ids), 100)]\n",
    "\n",
    "## save the API response \n",
    "chunk_responses = []\n",
    "\n",
    "## make the API call per chunk\n",
    "for chunk in tqdm(chunks):\n",
    "    sub_response = sp.audio_features(tracks=chunk)\n",
    "    chunk_responses.append(sub_response)\n",
    "\n"
   ]
  },
  {
   "cell_type": "code",
   "execution_count": 22,
   "metadata": {},
   "outputs": [
    {
     "output_type": "error",
     "ename": "TypeError",
     "evalue": "'NoneType' object is not subscriptable",
     "traceback": [
      "\u001b[0;31m---------------------------------------------------------------------------\u001b[0m",
      "\u001b[0;31mTypeError\u001b[0m                                 Traceback (most recent call last)",
      "\u001b[0;32m<ipython-input-22-aeecff44c887>\u001b[0m in \u001b[0;36m<module>\u001b[0;34m\u001b[0m\n\u001b[1;32m      4\u001b[0m \u001b[0;32mfor\u001b[0m \u001b[0mn\u001b[0m \u001b[0;32min\u001b[0m \u001b[0mrange\u001b[0m\u001b[0;34m(\u001b[0m\u001b[0mlen\u001b[0m\u001b[0;34m(\u001b[0m\u001b[0mchunk_responses\u001b[0m\u001b[0;34m)\u001b[0m\u001b[0;34m)\u001b[0m\u001b[0;34m:\u001b[0m\u001b[0;34m\u001b[0m\u001b[0;34m\u001b[0m\u001b[0m\n\u001b[1;32m      5\u001b[0m     \u001b[0;32mfor\u001b[0m \u001b[0mchunk\u001b[0m \u001b[0;32min\u001b[0m \u001b[0mchunk_responses\u001b[0m\u001b[0;34m[\u001b[0m\u001b[0mn\u001b[0m\u001b[0;34m]\u001b[0m\u001b[0;34m:\u001b[0m\u001b[0;34m\u001b[0m\u001b[0;34m\u001b[0m\u001b[0m\n\u001b[0;32m----> 6\u001b[0;31m         \u001b[0mresponses_dict\u001b[0m\u001b[0;34m[\u001b[0m\u001b[0mchunk\u001b[0m\u001b[0;34m[\u001b[0m\u001b[0;34m\"id\"\u001b[0m\u001b[0;34m]\u001b[0m\u001b[0;34m]\u001b[0m \u001b[0;34m=\u001b[0m \u001b[0mchunk\u001b[0m\u001b[0;34m\u001b[0m\u001b[0;34m\u001b[0m\u001b[0m\n\u001b[0m\u001b[1;32m      7\u001b[0m         \u001b[0;31m# print(i[])\u001b[0m\u001b[0;34m\u001b[0m\u001b[0;34m\u001b[0m\u001b[0;34m\u001b[0m\u001b[0m\n\u001b[1;32m      8\u001b[0m         \u001b[0;31m# break\u001b[0m\u001b[0;34m\u001b[0m\u001b[0;34m\u001b[0m\u001b[0;34m\u001b[0m\u001b[0m\n",
      "\u001b[0;31mTypeError\u001b[0m: 'NoneType' object is not subscriptable"
     ]
    }
   ],
   "source": [
    "# ## gotta unpack the responses to get it into a nice dictionary key: song_id, value: track_features\n",
    "# responses_dict = {}\n",
    "\n",
    "# for n in range(len(chunk_responses)):\n",
    "#     for chunk in chunk_responses[n]:\n",
    "#         responses_dict[chunk[\"id\"]] = chunk\n",
    "#         # print(i[])\n",
    "#         # break\n",
    "#         # responses_dict[i[\"id\"]] = i "
   ]
  },
  {
   "cell_type": "code",
   "execution_count": 41,
   "metadata": {},
   "outputs": [],
   "source": [
    "## let's flatten our chunked list of lists\n",
    "flat_chunk_responses = [v for sublist in chunk_responses for v in sublist]\n",
    "flat_chunk_responses = [i for i in flat_chunk_responses if i is not None]\n",
    "\n",
    "## create a dictionary with key:songID, value:trackFeatures\n",
    "responses_dict = {}\n",
    "for resp in flat_chunk_responses:\n",
    "    # print(resp[\"id\"])\n",
    "    # print(resp)\n",
    "    # break\n",
    "    responses_dict[resp[\"id\"]] = resp"
   ]
  },
  {
   "cell_type": "code",
   "execution_count": 42,
   "metadata": {},
   "outputs": [
    {
     "data": {
      "text/plain": "23140"
     },
     "execution_count": 42,
     "metadata": {},
     "output_type": "execute_result"
    }
   ],
   "source": [
    "len(responses_dict)"
   ]
  },
  {
   "cell_type": "code",
   "execution_count": 43,
   "metadata": {},
   "outputs": [],
   "source": [
    "## let's make the above dict of dicts into a nice dataframe\n",
    "## we can drop the columns we don't want from here\n",
    "track_features_df = pd.DataFrame(responses_dict).T"
   ]
  },
  {
   "cell_type": "code",
   "execution_count": 44,
   "metadata": {},
   "outputs": [
    {
     "data": {
      "text/plain": "                       danceability energy key loudness mode speechiness  \\\n3YOhXYCLFRQxEmUlzjiWEJ        0.537   0.81   8   -6.213    0       0.129   \n53RfjM48r9xNywpDiog6zG        0.342  0.377  11  -13.728    1      0.0401   \n73vcZCFNErwqHxuS1BXH0e        0.663  0.614   2   -7.712    1       0.249   \n5V2GVAhUtjXwEfYNUjDUyz        0.163  0.262   1   -9.781    1      0.0306   \n0Qdy0Vu9xir8mjc6iQ6vTA        0.262  0.753   9  -11.859    1      0.0987   \n\n                       acousticness instrumentalness liveness valence  \\\n3YOhXYCLFRQxEmUlzjiWEJ     0.000709            0.892   0.0579   0.667   \n53RfjM48r9xNywpDiog6zG        0.943            0.106    0.122   0.506   \n73vcZCFNErwqHxuS1BXH0e       0.0771          0.00689    0.296   0.248   \n5V2GVAhUtjXwEfYNUjDUyz        0.792            0.167    0.116   0.278   \n0Qdy0Vu9xir8mjc6iQ6vTA         0.33         0.000009    0.718   0.087   \n\n                          tempo            type                      id  \\\n3YOhXYCLFRQxEmUlzjiWEJ  134.096  audio_features  3YOhXYCLFRQxEmUlzjiWEJ   \n53RfjM48r9xNywpDiog6zG   76.672  audio_features  53RfjM48r9xNywpDiog6zG   \n73vcZCFNErwqHxuS1BXH0e    82.06  audio_features  73vcZCFNErwqHxuS1BXH0e   \n5V2GVAhUtjXwEfYNUjDUyz  170.527  audio_features  5V2GVAhUtjXwEfYNUjDUyz   \n0Qdy0Vu9xir8mjc6iQ6vTA  138.553  audio_features  0Qdy0Vu9xir8mjc6iQ6vTA   \n\n                                                         uri  \\\n3YOhXYCLFRQxEmUlzjiWEJ  spotify:track:3YOhXYCLFRQxEmUlzjiWEJ   \n53RfjM48r9xNywpDiog6zG  spotify:track:53RfjM48r9xNywpDiog6zG   \n73vcZCFNErwqHxuS1BXH0e  spotify:track:73vcZCFNErwqHxuS1BXH0e   \n5V2GVAhUtjXwEfYNUjDUyz  spotify:track:5V2GVAhUtjXwEfYNUjDUyz   \n0Qdy0Vu9xir8mjc6iQ6vTA  spotify:track:0Qdy0Vu9xir8mjc6iQ6vTA   \n\n                                                               track_href  \\\n3YOhXYCLFRQxEmUlzjiWEJ  https://api.spotify.com/v1/tracks/3YOhXYCLFRQx...   \n53RfjM48r9xNywpDiog6zG  https://api.spotify.com/v1/tracks/53RfjM48r9xN...   \n73vcZCFNErwqHxuS1BXH0e  https://api.spotify.com/v1/tracks/73vcZCFNErwq...   \n5V2GVAhUtjXwEfYNUjDUyz  https://api.spotify.com/v1/tracks/5V2GVAhUtjXw...   \n0Qdy0Vu9xir8mjc6iQ6vTA  https://api.spotify.com/v1/tracks/0Qdy0Vu9xir8...   \n\n                                                             analysis_url  \\\n3YOhXYCLFRQxEmUlzjiWEJ  https://api.spotify.com/v1/audio-analysis/3YOh...   \n53RfjM48r9xNywpDiog6zG  https://api.spotify.com/v1/audio-analysis/53Rf...   \n73vcZCFNErwqHxuS1BXH0e  https://api.spotify.com/v1/audio-analysis/73vc...   \n5V2GVAhUtjXwEfYNUjDUyz  https://api.spotify.com/v1/audio-analysis/5V2G...   \n0Qdy0Vu9xir8mjc6iQ6vTA  https://api.spotify.com/v1/audio-analysis/0Qdy...   \n\n                       duration_ms time_signature  \n3YOhXYCLFRQxEmUlzjiWEJ      136933              4  \n53RfjM48r9xNywpDiog6zG      256827              3  \n73vcZCFNErwqHxuS1BXH0e       87800              4  \n5V2GVAhUtjXwEfYNUjDUyz      205347              4  \n0Qdy0Vu9xir8mjc6iQ6vTA      101947              4  ",
      "text/html": "<div>\n<style scoped>\n    .dataframe tbody tr th:only-of-type {\n        vertical-align: middle;\n    }\n\n    .dataframe tbody tr th {\n        vertical-align: top;\n    }\n\n    .dataframe thead th {\n        text-align: right;\n    }\n</style>\n<table border=\"1\" class=\"dataframe\">\n  <thead>\n    <tr style=\"text-align: right;\">\n      <th></th>\n      <th>danceability</th>\n      <th>energy</th>\n      <th>key</th>\n      <th>loudness</th>\n      <th>mode</th>\n      <th>speechiness</th>\n      <th>acousticness</th>\n      <th>instrumentalness</th>\n      <th>liveness</th>\n      <th>valence</th>\n      <th>tempo</th>\n      <th>type</th>\n      <th>id</th>\n      <th>uri</th>\n      <th>track_href</th>\n      <th>analysis_url</th>\n      <th>duration_ms</th>\n      <th>time_signature</th>\n    </tr>\n  </thead>\n  <tbody>\n    <tr>\n      <th>3YOhXYCLFRQxEmUlzjiWEJ</th>\n      <td>0.537</td>\n      <td>0.81</td>\n      <td>8</td>\n      <td>-6.213</td>\n      <td>0</td>\n      <td>0.129</td>\n      <td>0.000709</td>\n      <td>0.892</td>\n      <td>0.0579</td>\n      <td>0.667</td>\n      <td>134.096</td>\n      <td>audio_features</td>\n      <td>3YOhXYCLFRQxEmUlzjiWEJ</td>\n      <td>spotify:track:3YOhXYCLFRQxEmUlzjiWEJ</td>\n      <td>https://api.spotify.com/v1/tracks/3YOhXYCLFRQx...</td>\n      <td>https://api.spotify.com/v1/audio-analysis/3YOh...</td>\n      <td>136933</td>\n      <td>4</td>\n    </tr>\n    <tr>\n      <th>53RfjM48r9xNywpDiog6zG</th>\n      <td>0.342</td>\n      <td>0.377</td>\n      <td>11</td>\n      <td>-13.728</td>\n      <td>1</td>\n      <td>0.0401</td>\n      <td>0.943</td>\n      <td>0.106</td>\n      <td>0.122</td>\n      <td>0.506</td>\n      <td>76.672</td>\n      <td>audio_features</td>\n      <td>53RfjM48r9xNywpDiog6zG</td>\n      <td>spotify:track:53RfjM48r9xNywpDiog6zG</td>\n      <td>https://api.spotify.com/v1/tracks/53RfjM48r9xN...</td>\n      <td>https://api.spotify.com/v1/audio-analysis/53Rf...</td>\n      <td>256827</td>\n      <td>3</td>\n    </tr>\n    <tr>\n      <th>73vcZCFNErwqHxuS1BXH0e</th>\n      <td>0.663</td>\n      <td>0.614</td>\n      <td>2</td>\n      <td>-7.712</td>\n      <td>1</td>\n      <td>0.249</td>\n      <td>0.0771</td>\n      <td>0.00689</td>\n      <td>0.296</td>\n      <td>0.248</td>\n      <td>82.06</td>\n      <td>audio_features</td>\n      <td>73vcZCFNErwqHxuS1BXH0e</td>\n      <td>spotify:track:73vcZCFNErwqHxuS1BXH0e</td>\n      <td>https://api.spotify.com/v1/tracks/73vcZCFNErwq...</td>\n      <td>https://api.spotify.com/v1/audio-analysis/73vc...</td>\n      <td>87800</td>\n      <td>4</td>\n    </tr>\n    <tr>\n      <th>5V2GVAhUtjXwEfYNUjDUyz</th>\n      <td>0.163</td>\n      <td>0.262</td>\n      <td>1</td>\n      <td>-9.781</td>\n      <td>1</td>\n      <td>0.0306</td>\n      <td>0.792</td>\n      <td>0.167</td>\n      <td>0.116</td>\n      <td>0.278</td>\n      <td>170.527</td>\n      <td>audio_features</td>\n      <td>5V2GVAhUtjXwEfYNUjDUyz</td>\n      <td>spotify:track:5V2GVAhUtjXwEfYNUjDUyz</td>\n      <td>https://api.spotify.com/v1/tracks/5V2GVAhUtjXw...</td>\n      <td>https://api.spotify.com/v1/audio-analysis/5V2G...</td>\n      <td>205347</td>\n      <td>4</td>\n    </tr>\n    <tr>\n      <th>0Qdy0Vu9xir8mjc6iQ6vTA</th>\n      <td>0.262</td>\n      <td>0.753</td>\n      <td>9</td>\n      <td>-11.859</td>\n      <td>1</td>\n      <td>0.0987</td>\n      <td>0.33</td>\n      <td>0.000009</td>\n      <td>0.718</td>\n      <td>0.087</td>\n      <td>138.553</td>\n      <td>audio_features</td>\n      <td>0Qdy0Vu9xir8mjc6iQ6vTA</td>\n      <td>spotify:track:0Qdy0Vu9xir8mjc6iQ6vTA</td>\n      <td>https://api.spotify.com/v1/tracks/0Qdy0Vu9xir8...</td>\n      <td>https://api.spotify.com/v1/audio-analysis/0Qdy...</td>\n      <td>101947</td>\n      <td>4</td>\n    </tr>\n  </tbody>\n</table>\n</div>"
     },
     "execution_count": 44,
     "metadata": {},
     "output_type": "execute_result"
    }
   ],
   "source": [
    "track_features_df.head()"
   ]
  },
  {
   "cell_type": "code",
   "execution_count": 45,
   "metadata": {},
   "outputs": [
    {
     "data": {
      "text/plain": "(23140, 18)"
     },
     "execution_count": 45,
     "metadata": {},
     "output_type": "execute_result"
    }
   ],
   "source": [
    "track_features_df.shape"
   ]
  },
  {
   "cell_type": "code",
   "execution_count": 46,
   "metadata": {},
   "outputs": [],
   "source": [
    "## let's write it to a CSV\n",
    "# track_features_df.to_csv(\"data/dataTracks.csv\", index=False)"
   ]
  }
 ]
}