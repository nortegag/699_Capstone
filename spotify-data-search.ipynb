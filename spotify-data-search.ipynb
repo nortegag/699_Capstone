{
 "metadata": {
  "language_info": {
   "codemirror_mode": {
    "name": "ipython",
    "version": 3
   },
   "file_extension": ".py",
   "mimetype": "text/x-python",
   "name": "python",
   "nbconvert_exporter": "python",
   "pygments_lexer": "ipython3",
   "version": "3.8.5-final"
  },
  "orig_nbformat": 2,
  "kernelspec": {
   "name": "python3",
   "language": "python",
   "display_name": "Python 3"
  }
 },
 "nbformat": 4,
 "nbformat_minor": 2,
 "cells": [
  {
   "source": [
    "# Spotify Search API\n",
    "- Using Spotify API to get the song_id for the song given a concatenated string of both song title and artistname, after pre-processing\n",
    "- This API call will also get the song's popularity. We'll be using another endpoint to retrieve further track features\n",
    "- Some further pre-processing (removing non-unicode chars)\n",
    "- We use a language detector do determine which market to use as a parameter of the search call (alpha-2 country code e.g. 'us', 'it')\n",
    "- Spotify API requires authentication (see below)\n"
   ],
   "cell_type": "markdown",
   "metadata": {}
  },
  {
   "source": [
    "Need to set environment variables for Spotify authentication\n",
    "- export SPOTIPY_CLIENT_ID='your-spotify-client-id'\n",
    "- export SPOTIPY_CLIENT_SECRET='your-spotify-client-secret'\n"
   ],
   "cell_type": "markdown",
   "metadata": {}
  },
  {
   "cell_type": "code",
   "execution_count": 78,
   "metadata": {},
   "outputs": [],
   "source": [
    "import os\n",
    "## Set environment variables\n",
    "os.environ['SPOTIPY_CLIENT_ID'] = ''\n",
    "os.environ['SPOTIPY_CLIENT_SECRET'] = ''"
   ]
  },
  {
   "cell_type": "code",
   "execution_count": 79,
   "metadata": {},
   "outputs": [],
   "source": [
    "## Checking that environment variables exist\n",
    "# print(os.environ.get(\"SPOTIPY_CLIENT_ID\"))\n",
    "# print(os.environ.get(\"SPOTIPY_CLIENT_SECRET\"))\n",
    "# ! printenv"
   ]
  },
  {
   "source": [
    "## Simple Demo of Search API Call\n",
    "- OAuth authentication with the sp object\n",
    "- use .search function (input: demo string, limit 1, type=track)\n",
    "- Explore data fields"
   ],
   "cell_type": "markdown",
   "metadata": {}
  },
  {
   "cell_type": "code",
   "execution_count": 80,
   "outputs": [],
   "source": [
    "import spotipy\n",
    "from spotipy.oauth2 import SpotifyClientCredentials\n",
    "import sys\n",
    "import os\n",
    "import pprint\n",
    "\n",
    "import pandas as pd\n",
    "import numpy as np\n",
    "import re\n",
    "\n",
    "from tqdm.notebook import tqdm"
   ],
   "metadata": {
    "collapsed": false,
    "pycharm": {
     "name": "#%%\n"
    }
   }
  },
  {
   "cell_type": "code",
   "execution_count": 81,
   "metadata": {},
   "outputs": [],
   "source": [
    "## WORKED, SINGLE SONG EXAMPLE\n",
    "## making search API call\n",
    "sp = spotipy.Spotify(client_credentials_manager=SpotifyClientCredentials())\n",
    "\n",
    "demo_string = \"the clash straight to hell\"\n",
    "## results is a dictionary\n",
    "results = sp.search(q=demo_string, limit=1, type=\"track\")\n"
   ]
  },
  {
   "cell_type": "code",
   "execution_count": 82,
   "metadata": {},
   "outputs": [],
   "source": [
    "## pretty printer to better handle dictionary printing, see request response json;\n",
    "## uncomment to check it out\n",
    "\n",
    "# pp = pprint.PrettyPrinter()\n",
    "# pp.pprint(results)"
   ]
  },
  {
   "cell_type": "code",
   "execution_count": 83,
   "metadata": {},
   "outputs": [
    {
     "name": "stdout",
     "output_type": "stream",
     "text": [
      "2ax1vei61BzRGsEn6ckEdL Straight to Hell - Remastered The Clash 59\n"
     ]
    }
   ],
   "source": [
    "## get the target variables from the call\n",
    "song_id = results[\"tracks\"][\"items\"][0].get(\"id\")\n",
    "song_name = results[\"tracks\"][\"items\"][0].get(\"name\")\n",
    "artist_name = results[\"tracks\"][\"items\"][0][\"album\"][\"artists\"][0].get(\"name\")\n",
    "song_popularity = results[\"tracks\"][\"items\"][0].get(\"popularity\")\n",
    "\n",
    "print(song_id, song_name, artist_name, song_popularity)"
   ]
  },
  {
   "source": [
    "### Working to get popularity on a small subset of our DF\n",
    "- Eventually, of course, the Full DF (MSD)"
   ],
   "cell_type": "markdown",
   "metadata": {}
  },
  {
   "cell_type": "code",
   "execution_count": 84,
   "metadata": {},
   "outputs": [],
   "source": [
    "# df used to use the search API (SongNumber, SearchStr, market)\n",
    "search_df = pd.read_csv(\"data/search_subset.csv\")"
   ]
  },
  {
   "cell_type": "code",
   "execution_count": 85,
   "metadata": {},
   "outputs": [
    {
     "data": {
      "text/plain": "(31054, 5)"
     },
     "execution_count": 85,
     "metadata": {},
     "output_type": "execute_result"
    }
   ],
   "source": [
    "search_df.shape"
   ]
  },
  {
   "cell_type": "code",
   "execution_count": 86,
   "outputs": [
    {
     "data": {
      "text/plain": "(31054, 5)"
     },
     "execution_count": 86,
     "metadata": {},
     "output_type": "execute_result"
    }
   ],
   "source": [
    "## remove the entries where SearchStr isn't present or nan\n",
    "search_df = search_df[~search_df[\"SearchStr\"].isnull()]\n",
    "search_df.shape"
   ],
   "metadata": {
    "collapsed": false,
    "pycharm": {
     "name": "#%%\n"
    }
   }
  },
  {
   "cell_type": "code",
   "execution_count": 87,
   "metadata": {},
   "outputs": [],
   "source": [
    "## space to try out more pre-processing techniques to improve Spotify response\n",
    "\n",
    "# remove parenthesis from the SearchStr? -- might not do it, since we're using levenshtein edit distance \n",
    "search_df[\"SearchStr_nopar\"] = search_df.SearchStr.apply(lambda x: re.sub(\"\\(.*\\)\", \"\", x))"
   ]
  },
  {
   "cell_type": "code",
   "execution_count": 88,
   "metadata": {},
   "outputs": [],
   "source": [
    "## https://stackoverflow.com/questions/34753821/remove-diacritics-from-string-for-search-function\n",
    "## removing diacritics (special accents) from the strings?\n",
    "import unicodedata\n",
    "def shave_marks(txt):\n",
    "    \"\"\"This method removes all diacritic marks from the given string\"\"\"\n",
    "    norm_txt = unicodedata.normalize('NFD', txt)\n",
    "    shaved = ''.join(c for c in norm_txt if not unicodedata.combining(c))\n",
    "    return unicodedata.normalize('NFC', shaved)\n",
    "\n",
    "search_df[\"SearchStr_decode_nopar\"] = search_df[\"SearchStr_nopar\"].apply(lambda x: shave_marks(x))"
   ]
  },
  {
   "cell_type": "code",
   "execution_count": 89,
   "metadata": {},
   "outputs": [
    {
     "data": {
      "text/plain": "   SongNumber        Title    ArtistName                SearchStr market  \\\n0       77629   Fire Dance  STRATOVARIUS  fire dance stratovarius     it   \n1      575703  Don't Worry   Fred Thomas  don't worry fred thomas     us   \n\n           SearchStr_nopar   SearchStr_decode_nopar  \n0  fire dance stratovarius  fire dance stratovarius  \n1  don't worry fred thomas  don't worry fred thomas  ",
      "text/html": "<div>\n<style scoped>\n    .dataframe tbody tr th:only-of-type {\n        vertical-align: middle;\n    }\n\n    .dataframe tbody tr th {\n        vertical-align: top;\n    }\n\n    .dataframe thead th {\n        text-align: right;\n    }\n</style>\n<table border=\"1\" class=\"dataframe\">\n  <thead>\n    <tr style=\"text-align: right;\">\n      <th></th>\n      <th>SongNumber</th>\n      <th>Title</th>\n      <th>ArtistName</th>\n      <th>SearchStr</th>\n      <th>market</th>\n      <th>SearchStr_nopar</th>\n      <th>SearchStr_decode_nopar</th>\n    </tr>\n  </thead>\n  <tbody>\n    <tr>\n      <th>0</th>\n      <td>77629</td>\n      <td>Fire Dance</td>\n      <td>STRATOVARIUS</td>\n      <td>fire dance stratovarius</td>\n      <td>it</td>\n      <td>fire dance stratovarius</td>\n      <td>fire dance stratovarius</td>\n    </tr>\n    <tr>\n      <th>1</th>\n      <td>575703</td>\n      <td>Don't Worry</td>\n      <td>Fred Thomas</td>\n      <td>don't worry fred thomas</td>\n      <td>us</td>\n      <td>don't worry fred thomas</td>\n      <td>don't worry fred thomas</td>\n    </tr>\n  </tbody>\n</table>\n</div>"
     },
     "execution_count": 89,
     "metadata": {},
     "output_type": "execute_result"
    }
   ],
   "source": [
    "search_df.head(2)"
   ]
  },
  {
   "cell_type": "code",
   "execution_count": 90,
   "metadata": {},
   "outputs": [
    {
     "name": "stdout",
     "output_type": "stream",
     "text": [
      "(31054, 7)\n"
     ]
    },
    {
     "data": {
      "text/plain": "       SongNumber                        Title          ArtistName  \\\n30792      478316              Universal Daddy          Alphaville   \n1085       404403       This Land Is Your Land         The Seekers   \n26747      311824  Schuld war wieder die Nacht  Münchener Freiheit   \n1200       261244                 dark breaker        Sundial Aeon   \n25400      233084                   Dyrt å spå         Hellbillies   \n\n                                            SearchStr market  \\\n30792                      universal daddy alphaville     us   \n1085               this land is your land the seekers     us   \n26747  schuld war wieder die nacht münchener freiheit     us   \n1200                        dark breaker sundial aeon     us   \n25400                          dyrt å spå hellbillies     us   \n\n                                      SearchStr_nopar  \\\n30792                      universal daddy alphaville   \n1085               this land is your land the seekers   \n26747  schuld war wieder die nacht münchener freiheit   \n1200                        dark breaker sundial aeon   \n25400                          dyrt å spå hellbillies   \n\n                               SearchStr_decode_nopar  \n30792                      universal daddy alphaville  \n1085               this land is your land the seekers  \n26747  schuld war wieder die nacht munchener freiheit  \n1200                        dark breaker sundial aeon  \n25400                          dyrt a spa hellbillies  ",
      "text/html": "<div>\n<style scoped>\n    .dataframe tbody tr th:only-of-type {\n        vertical-align: middle;\n    }\n\n    .dataframe tbody tr th {\n        vertical-align: top;\n    }\n\n    .dataframe thead th {\n        text-align: right;\n    }\n</style>\n<table border=\"1\" class=\"dataframe\">\n  <thead>\n    <tr style=\"text-align: right;\">\n      <th></th>\n      <th>SongNumber</th>\n      <th>Title</th>\n      <th>ArtistName</th>\n      <th>SearchStr</th>\n      <th>market</th>\n      <th>SearchStr_nopar</th>\n      <th>SearchStr_decode_nopar</th>\n    </tr>\n  </thead>\n  <tbody>\n    <tr>\n      <th>30792</th>\n      <td>478316</td>\n      <td>Universal Daddy</td>\n      <td>Alphaville</td>\n      <td>universal daddy alphaville</td>\n      <td>us</td>\n      <td>universal daddy alphaville</td>\n      <td>universal daddy alphaville</td>\n    </tr>\n    <tr>\n      <th>1085</th>\n      <td>404403</td>\n      <td>This Land Is Your Land</td>\n      <td>The Seekers</td>\n      <td>this land is your land the seekers</td>\n      <td>us</td>\n      <td>this land is your land the seekers</td>\n      <td>this land is your land the seekers</td>\n    </tr>\n    <tr>\n      <th>26747</th>\n      <td>311824</td>\n      <td>Schuld war wieder die Nacht</td>\n      <td>Münchener Freiheit</td>\n      <td>schuld war wieder die nacht münchener freiheit</td>\n      <td>us</td>\n      <td>schuld war wieder die nacht münchener freiheit</td>\n      <td>schuld war wieder die nacht munchener freiheit</td>\n    </tr>\n    <tr>\n      <th>1200</th>\n      <td>261244</td>\n      <td>dark breaker</td>\n      <td>Sundial Aeon</td>\n      <td>dark breaker sundial aeon</td>\n      <td>us</td>\n      <td>dark breaker sundial aeon</td>\n      <td>dark breaker sundial aeon</td>\n    </tr>\n    <tr>\n      <th>25400</th>\n      <td>233084</td>\n      <td>Dyrt å spå</td>\n      <td>Hellbillies</td>\n      <td>dyrt å spå hellbillies</td>\n      <td>us</td>\n      <td>dyrt å spå hellbillies</td>\n      <td>dyrt a spa hellbillies</td>\n    </tr>\n  </tbody>\n</table>\n</div>"
     },
     "execution_count": 90,
     "metadata": {},
     "output_type": "execute_result"
    }
   ],
   "source": [
    "print(search_df.shape)\n",
    "search_df.sample(5)"
   ]
  },
  {
   "cell_type": "code",
   "execution_count": 91,
   "metadata": {},
   "outputs": [
    {
     "data": {
      "text/plain": "  0%|          | 0/31054 [00:00<?, ?it/s]",
      "application/vnd.jupyter.widget-view+json": {
       "version_major": 2,
       "version_minor": 0,
       "model_id": "c89cdad43da84283bf2025a15e3babbf"
      }
     },
     "metadata": {},
     "output_type": "display_data"
    }
   ],
   "source": [
    "## following above format, let's get tups for all of our songs in the subset; \n",
    "## tups are (SearchStr, market)\n",
    "search_tups = []\n",
    "\n",
    "for i in tqdm(range(len(search_df))):\n",
    "    ## change the string column to be used for the search here\n",
    "    vals_tup = tuple((search_df.iloc[i].SearchStr_nopar, search_df.iloc[i].market))\n",
    "    search_tups.append(vals_tup)\n",
    "    "
   ]
  },
  {
   "cell_type": "code",
   "execution_count": 92,
   "metadata": {},
   "outputs": [
    {
     "data": {
      "text/plain": "[('fire dance stratovarius', 'it'),\n (\"don't worry fred thomas\", 'us'),\n (\"guess who's coming to dinner chops\", 'us'),\n ('deep river  the five blind boys of alabama', 'us'),\n ('intro/love line interlude1 deviants of reality', 'us'),\n ('danny boy foster & allen', 'us'),\n (\"postcard finn's motel\", 'us'),\n ('i come down joseph arthur', 'us'),\n ('move up tony roots', 'us'),\n ('automatic \" scott wozniak_ angelica linares', 'us')]"
     },
     "execution_count": 92,
     "metadata": {},
     "output_type": "execute_result"
    }
   ],
   "source": [
    "search_tups[:10]"
   ]
  },
  {
   "cell_type": "code",
   "execution_count": 93,
   "outputs": [],
   "source": [
    "## iterate over our search strings, use the spotipy package to get data\n",
    "## result list is list of tuples (id<str>, song_name<str>, artist_name<str>, popularity<int>)\n",
    "import time\n",
    "\n",
    "result_list = []\n",
    "\n",
    "## chunks for API calls\n",
    "# https://stackoverflow.com/questions/312443/how-do-you-split-a-list-into-evenly-sized-chunks\n",
    "\n",
    "def chunks(lst, n):\n",
    "    \"\"\"Yield successive n-sized chunks from lst.\"\"\"\n",
    "    for o in range(0, len(lst), n):\n",
    "        yield lst[o:o + n]\n",
    "\n",
    "chunk_search_tups = list(chunks(search_tups, 1400))"
   ],
   "metadata": {
    "collapsed": false,
    "pycharm": {
     "name": "#%%\n"
    }
   }
  },
  {
   "cell_type": "code",
   "execution_count": 95,
   "outputs": [],
   "source": [
    "# chunk_search_tups[1]\n"
   ],
   "metadata": {
    "collapsed": false,
    "pycharm": {
     "name": "#%%\n"
    }
   }
  },
  {
   "cell_type": "code",
   "execution_count": 96,
   "outputs": [
    {
     "data": {
      "text/plain": "  0%|          | 0/23 [00:00<?, ?it/s]",
      "application/vnd.jupyter.widget-view+json": {
       "version_major": 2,
       "version_minor": 0,
       "model_id": "153d5d67d1a74375ab3d2308723f454b"
      }
     },
     "metadata": {},
     "output_type": "display_data"
    }
   ],
   "source": [
    "for chunk in tqdm(chunk_search_tups):\n",
    "\n",
    "    time.sleep(3)\n",
    "\n",
    "    for t in chunk:\n",
    "        # print(t)\n",
    "\n",
    "        real_result = sp.search(q=t[0], limit=1, type=\"track\", market=t[1])\n",
    "        ## error handling if response returns an empty list\n",
    "        if real_result[\"tracks\"][\"items\"] == []:\n",
    "            result_list.append(\"API-fail \" + t[0])\n",
    "\n",
    "        else:\n",
    "            result_list.append((real_result[\"tracks\"][\"items\"][0].get(\"id\"),\n",
    "                                real_result[\"tracks\"][\"items\"][0].get(\"name\"),\n",
    "                                real_result[\"tracks\"][\"items\"][0][\"album\"][\"artists\"][0].get(\"name\"),\n",
    "                                real_result[\"tracks\"][\"items\"][0].get(\"popularity\")))\n",
    "    # time.sleep(5)\n"
   ],
   "metadata": {
    "collapsed": false,
    "pycharm": {
     "name": "#%%\n"
    }
   }
  },
  {
   "cell_type": "code",
   "execution_count": 97,
   "metadata": {},
   "outputs": [
    {
     "data": {
      "text/plain": "0.15762864687318864"
     },
     "execution_count": 97,
     "metadata": {},
     "output_type": "execute_result"
    }
   ],
   "source": [
    "## computing percentage of songs where the API failed\n",
    "# 0.19 with parenthesis (.head(100))\n",
    "# 0.1 without parenthesis (.head(100))\n",
    "# 0.1 without parenthesis or diacritics (.head(100))\n",
    "\n",
    "perc_API_failed = len([i for i in result_list if \"API-fail\" in i]) / len(result_list)\n",
    "perc_API_failed\n",
    "# result_list"
   ]
  },
  {
   "cell_type": "code",
   "execution_count": 98,
   "metadata": {},
   "outputs": [
    {
     "data": {
      "text/plain": "[('3YOhXYCLFRQxEmUlzjiWEJ', 'Fire Dance', 'Stratovarius', 17),\n ('53RfjM48r9xNywpDiog6zG', \"Don't Worry\", 'Fred Thomas', 1),\n \"API-fail guess who's coming to dinner chops\",\n ('3XeMKCwdyW5aRqbpR9zMal',\n  'Look Where He Brought Me From',\n  'The Blind Boys Of Alabama',\n  11),\n ('73vcZCFNErwqHxuS1BXH0e',\n  'Intro/Love Line Interlude 1',\n  'Deviants Of Reality',\n  0),\n ('5V2GVAhUtjXwEfYNUjDUyz', 'Danny Boy', 'Foster & Allen', 26),\n ('0Qdy0Vu9xir8mjc6iQ6vTA', 'Postcard', \"Finn's Motel\", 0),\n ('6llvyjyBy6iORyHIkcpVJW', 'I Come Down', 'Joseph Arthur', 1),\n ('1NccL2OKYnyukD6xMsmdG1', 'Move Up', 'Tony Roots', 0),\n ('1Hxm5EQNE94R0ZgRvmNQ33',\n  'Automatic (feat. Angelica Linares) - Wozniak Vocal Mix',\n  'Scott Wozniak',\n  0)]"
     },
     "execution_count": 98,
     "metadata": {},
     "output_type": "execute_result"
    }
   ],
   "source": [
    "## seeing which queries failed, and hopefully why\n",
    "# len([i for i in result_list if not \"API-fail\" in i])\n",
    "\" \".join([i for i in result_list if \"API-fail\" in i][0].split(\" \")[1:])\n",
    "result_list[:10]\n"
   ]
  },
  {
   "cell_type": "code",
   "execution_count": 99,
   "metadata": {},
   "outputs": [
    {
     "data": {
      "text/plain": "[\"API-fail guess who's coming to dinner chops\",\n 'API-fail cycle of the streets thought riot',\n 'API-fail i can let go now lee ryan']"
     },
     "execution_count": 99,
     "metadata": {},
     "output_type": "execute_result"
    }
   ],
   "source": [
    "## results that return failed api call\n",
    "pos_results = [i for i in result_list if  \"API-fail\" in i]\n",
    "pos_results[:3]"
   ]
  },
  {
   "cell_type": "code",
   "execution_count": 100,
   "metadata": {},
   "outputs": [],
   "source": [
    "## we gotta restructure the results list because the API fail error message is a string\n",
    "## replace it with a (a,b,c,d) tuple -- works\n",
    "results_copy = result_list.copy()\n",
    "\n",
    "for i, r in enumerate(result_list):\n",
    "    # print(r)\n",
    "    # break\n",
    "    if \"API-fail\" in r:\n",
    "        results_copy[i] = (\"\", \" \".join(r.split(\" \")[1:]), np.nan)\n",
    "        "
   ]
  },
  {
   "cell_type": "code",
   "execution_count": 101,
   "metadata": {},
   "outputs": [
    {
     "name": "stdout",
     "output_type": "stream",
     "text": [
      "('', \"guess who's coming to dinner chops\", nan)\n"
     ]
    }
   ],
   "source": [
    "# results_copy\n",
    "for i in results_copy:\n",
    "    if \"\" in i:\n",
    "        print(i)\n",
    "        break"
   ]
  },
  {
   "cell_type": "code",
   "execution_count": 102,
   "metadata": {},
   "outputs": [
    {
     "data": {
      "text/plain": "('', 'cycle of the streets thought riot', nan)"
     },
     "execution_count": 102,
     "metadata": {},
     "output_type": "execute_result"
    }
   ],
   "source": [
    "results_copy[10]"
   ]
  },
  {
   "cell_type": "code",
   "execution_count": 103,
   "metadata": {},
   "outputs": [],
   "source": [
    "## get target variables from results_copy to add as features to our data; specially to evaluate performance\n",
    "_ids = [i[0] for i in results_copy]\n",
    "_namesong = [i[1] for i in results_copy]\n",
    "_nameartist = [i[2] for i in results_copy]\n",
    "_pop = [i[3] if len(i) == 4 else np.nan for i in results_copy]"
   ]
  },
  {
   "cell_type": "code",
   "execution_count": 104,
   "metadata": {},
   "outputs": [],
   "source": [
    "## now we have the song_id, title from spotify, and the popularity for our subset\n",
    "search_df[\"SongID\"] = _ids\n",
    "search_df[\"SpotifySongTitle\"] = _namesong\n",
    "search_df[\"SpotifyArtistTitle\"] = _nameartist\n",
    "search_df[\"Popularity\"] = _pop"
   ]
  },
  {
   "cell_type": "code",
   "execution_count": 105,
   "metadata": {},
   "outputs": [
    {
     "data": {
      "text/plain": "       SongNumber                      Title                  ArtistName  \\\n30655      861944           See You Tomorrow                 John Powell   \n29949      550959       A Porter's Love Song            James P. Johnson   \n1951       973161             Before The Day                     Newsong   \n1480       702992             Homeward Strut                 Tommy Bolin   \n28974      722393                   Time Out                   Joe Walsh   \n14376      748719          The Valley People                   Earlimart   \n28203      909008  Conclusions / Concussions            Air Conditioning   \n18438      302059         Walking In Memphis                    Lonestar   \n7332       819881                 Youth Goes                  U.S. Bombs   \n21110      401251          Equinoxe (Part 5)  New Electronic Soundsystem   \n\n                                          SearchStr market  \\\n30655                  see you tomorrow john powell     us   \n29949         a porter's love song james p. johnson     us   \n1951                         before the day newsong     us   \n1480                     homeward strut tommy bolin     us   \n28974                            time out joe walsh     us   \n14376                   the valley people earlimart     us   \n28203    conclusions / concussions air conditioning     fr   \n18438                   walking in memphis lonestar     us   \n7332                          youth goes u.s. bombs     us   \n21110  equinoxe (part 5) new electronic soundsystem     us   \n\n                                  SearchStr_nopar  \\\n30655                see you tomorrow john powell   \n29949       a porter's love song james p. johnson   \n1951                       before the day newsong   \n1480                   homeward strut tommy bolin   \n28974                          time out joe walsh   \n14376                 the valley people earlimart   \n28203  conclusions / concussions air conditioning   \n18438                 walking in memphis lonestar   \n7332                        youth goes u.s. bombs   \n21110        equinoxe  new electronic soundsystem   \n\n                           SearchStr_decode_nopar                  SongID  \\\n30655                see you tomorrow john powell  7D9Jhcu3r5UcVbqwKuZKsV   \n29949       a porter's love song james p. johnson  3EM3lXPY4hLtxZdj1HJJQf   \n1951                       before the day newsong  3CsrLqHtqIT9ZGgh8LRBFf   \n1480                   homeward strut tommy bolin  3q7C3yW4bmsNvqvqUdyqDY   \n28974                          time out joe walsh  0VezDmUV7Vkpo0aLUu4jqJ   \n14376                 the valley people earlimart  4tXNAwcs2WzDAO0b5lGuKW   \n28203  conclusions / concussions air conditioning  2LvGlr6chqKC36t5tHAkR1   \n18438                 walking in memphis lonestar  3c9WJhG3QvTtHmwKb5wz3i   \n7332                        youth goes u.s. bombs  0Um6KiGWNVrEt0SwEavxFi   \n21110        equinoxe  new electronic soundsystem  0NBsaHT4fIKgDC49lJAhHr   \n\n                     SpotifySongTitle          SpotifyArtistTitle  Popularity  \n30655                See You Tomorrow                 John Powell        49.0  \n29949  A Porter's Love Song To A Cham            James P. Johnson         4.0  \n1951                   Before The Day                     Newsong        17.0  \n1480                   Homeward Strut                 Tommy Bolin        13.0  \n28974                        Time Out                   Joe Walsh        30.0  \n14376               The Valley People                   Earlimart         4.0  \n28203       Conclusions / Concussions            Air Conditioning         0.0  \n18438              Walking In Memphis                    Lonestar        54.0  \n7332                       Youth Goes                  U.S. Bombs        10.0  \n21110               Equinoxe (Part 5)  New Electronic Soundsystem         0.0  ",
      "text/html": "<div>\n<style scoped>\n    .dataframe tbody tr th:only-of-type {\n        vertical-align: middle;\n    }\n\n    .dataframe tbody tr th {\n        vertical-align: top;\n    }\n\n    .dataframe thead th {\n        text-align: right;\n    }\n</style>\n<table border=\"1\" class=\"dataframe\">\n  <thead>\n    <tr style=\"text-align: right;\">\n      <th></th>\n      <th>SongNumber</th>\n      <th>Title</th>\n      <th>ArtistName</th>\n      <th>SearchStr</th>\n      <th>market</th>\n      <th>SearchStr_nopar</th>\n      <th>SearchStr_decode_nopar</th>\n      <th>SongID</th>\n      <th>SpotifySongTitle</th>\n      <th>SpotifyArtistTitle</th>\n      <th>Popularity</th>\n    </tr>\n  </thead>\n  <tbody>\n    <tr>\n      <th>30655</th>\n      <td>861944</td>\n      <td>See You Tomorrow</td>\n      <td>John Powell</td>\n      <td>see you tomorrow john powell</td>\n      <td>us</td>\n      <td>see you tomorrow john powell</td>\n      <td>see you tomorrow john powell</td>\n      <td>7D9Jhcu3r5UcVbqwKuZKsV</td>\n      <td>See You Tomorrow</td>\n      <td>John Powell</td>\n      <td>49.0</td>\n    </tr>\n    <tr>\n      <th>29949</th>\n      <td>550959</td>\n      <td>A Porter's Love Song</td>\n      <td>James P. Johnson</td>\n      <td>a porter's love song james p. johnson</td>\n      <td>us</td>\n      <td>a porter's love song james p. johnson</td>\n      <td>a porter's love song james p. johnson</td>\n      <td>3EM3lXPY4hLtxZdj1HJJQf</td>\n      <td>A Porter's Love Song To A Cham</td>\n      <td>James P. Johnson</td>\n      <td>4.0</td>\n    </tr>\n    <tr>\n      <th>1951</th>\n      <td>973161</td>\n      <td>Before The Day</td>\n      <td>Newsong</td>\n      <td>before the day newsong</td>\n      <td>us</td>\n      <td>before the day newsong</td>\n      <td>before the day newsong</td>\n      <td>3CsrLqHtqIT9ZGgh8LRBFf</td>\n      <td>Before The Day</td>\n      <td>Newsong</td>\n      <td>17.0</td>\n    </tr>\n    <tr>\n      <th>1480</th>\n      <td>702992</td>\n      <td>Homeward Strut</td>\n      <td>Tommy Bolin</td>\n      <td>homeward strut tommy bolin</td>\n      <td>us</td>\n      <td>homeward strut tommy bolin</td>\n      <td>homeward strut tommy bolin</td>\n      <td>3q7C3yW4bmsNvqvqUdyqDY</td>\n      <td>Homeward Strut</td>\n      <td>Tommy Bolin</td>\n      <td>13.0</td>\n    </tr>\n    <tr>\n      <th>28974</th>\n      <td>722393</td>\n      <td>Time Out</td>\n      <td>Joe Walsh</td>\n      <td>time out joe walsh</td>\n      <td>us</td>\n      <td>time out joe walsh</td>\n      <td>time out joe walsh</td>\n      <td>0VezDmUV7Vkpo0aLUu4jqJ</td>\n      <td>Time Out</td>\n      <td>Joe Walsh</td>\n      <td>30.0</td>\n    </tr>\n    <tr>\n      <th>14376</th>\n      <td>748719</td>\n      <td>The Valley People</td>\n      <td>Earlimart</td>\n      <td>the valley people earlimart</td>\n      <td>us</td>\n      <td>the valley people earlimart</td>\n      <td>the valley people earlimart</td>\n      <td>4tXNAwcs2WzDAO0b5lGuKW</td>\n      <td>The Valley People</td>\n      <td>Earlimart</td>\n      <td>4.0</td>\n    </tr>\n    <tr>\n      <th>28203</th>\n      <td>909008</td>\n      <td>Conclusions / Concussions</td>\n      <td>Air Conditioning</td>\n      <td>conclusions / concussions air conditioning</td>\n      <td>fr</td>\n      <td>conclusions / concussions air conditioning</td>\n      <td>conclusions / concussions air conditioning</td>\n      <td>2LvGlr6chqKC36t5tHAkR1</td>\n      <td>Conclusions / Concussions</td>\n      <td>Air Conditioning</td>\n      <td>0.0</td>\n    </tr>\n    <tr>\n      <th>18438</th>\n      <td>302059</td>\n      <td>Walking In Memphis</td>\n      <td>Lonestar</td>\n      <td>walking in memphis lonestar</td>\n      <td>us</td>\n      <td>walking in memphis lonestar</td>\n      <td>walking in memphis lonestar</td>\n      <td>3c9WJhG3QvTtHmwKb5wz3i</td>\n      <td>Walking In Memphis</td>\n      <td>Lonestar</td>\n      <td>54.0</td>\n    </tr>\n    <tr>\n      <th>7332</th>\n      <td>819881</td>\n      <td>Youth Goes</td>\n      <td>U.S. Bombs</td>\n      <td>youth goes u.s. bombs</td>\n      <td>us</td>\n      <td>youth goes u.s. bombs</td>\n      <td>youth goes u.s. bombs</td>\n      <td>0Um6KiGWNVrEt0SwEavxFi</td>\n      <td>Youth Goes</td>\n      <td>U.S. Bombs</td>\n      <td>10.0</td>\n    </tr>\n    <tr>\n      <th>21110</th>\n      <td>401251</td>\n      <td>Equinoxe (Part 5)</td>\n      <td>New Electronic Soundsystem</td>\n      <td>equinoxe (part 5) new electronic soundsystem</td>\n      <td>us</td>\n      <td>equinoxe  new electronic soundsystem</td>\n      <td>equinoxe  new electronic soundsystem</td>\n      <td>0NBsaHT4fIKgDC49lJAhHr</td>\n      <td>Equinoxe (Part 5)</td>\n      <td>New Electronic Soundsystem</td>\n      <td>0.0</td>\n    </tr>\n  </tbody>\n</table>\n</div>"
     },
     "execution_count": 105,
     "metadata": {},
     "output_type": "execute_result"
    }
   ],
   "source": [
    "## ! we need to think of a way to evaluate how well we did in our popularity retrieval,\n",
    "## some can be matched exactly but more pre-processing and lighter rule-based things might be needed\n",
    "search_df.sample(10)"
   ]
  },
  {
   "cell_type": "code",
   "execution_count": 107,
   "metadata": {
    "pycharm": {
     "name": "#%%\n"
    }
   },
   "outputs": [],
   "source": [
    "## write it, let's not lose it. Use later to merge data together with track features stuff\n",
    "# search_df.to_csv(\"data/dataSpotify.csv\", index=False)\n"
   ]
  }
 ]
}