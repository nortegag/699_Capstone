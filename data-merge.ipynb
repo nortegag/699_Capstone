{
 "metadata": {
  "language_info": {
   "codemirror_mode": {
    "name": "ipython",
    "version": 3
   },
   "file_extension": ".py",
   "mimetype": "text/x-python",
   "name": "python",
   "nbconvert_exporter": "python",
   "pygments_lexer": "ipython3",
   "version": "3.8.5-final"
  },
  "orig_nbformat": 2,
  "kernelspec": {
   "name": "python3",
   "language": "python",
   "display_name": "Python 3"
  }
 },
 "nbformat": 4,
 "nbformat_minor": 2,
 "cells": [
  {
   "cell_type": "code",
   "execution_count": 125,
   "metadata": {},
   "outputs": [],
   "source": [
    "import pandas as pd"
   ]
  },
  {
   "cell_type": "code",
   "execution_count": 142,
   "metadata": {},
   "outputs": [],
   "source": [
    "## read in both dataframes to merge\n",
    "full_df = pd.read_csv(\"data/SongCSVFull.csv\")\n",
    "full_df = full_df.sample(32000, random_state=0).reset_index(drop=True)\n",
    "# make the SongNumber an integer, return 0 if it isn't numeric\n",
    "full_df.SongNumber = [int(i) if i.isnumeric() else 0 for i in full_df.SongNumber.values]\n",
    "full_df = full_df[full_df.SongNumber != 0]\n",
    "\n",
    "\n",
    "spotify_df = pd.read_csv(\"data/dataSpotifyJW.csv\") ## new spotify data, with JW scores considered\n",
    "track_features_df = pd.read_csv(\"data/dataTracks.csv\")\n",
    "## will need to read in the track features dataframe as well\n"
   ]
  },
  {
   "cell_type": "code",
   "execution_count": 143,
   "outputs": [
    {
     "data": {
      "text/plain": "(30119, 22)"
     },
     "execution_count": 143,
     "metadata": {},
     "output_type": "execute_result"
    }
   ],
   "source": [
    "# spotify_df\n",
    "# track_features_df\n",
    "full_df.shape"
   ],
   "metadata": {
    "collapsed": false,
    "pycharm": {
     "name": "#%%\n"
    }
   }
  },
  {
   "source": [
    "Let's merge the "
   ],
   "cell_type": "markdown",
   "metadata": {}
  },
  {
   "cell_type": "code",
   "execution_count": 144,
   "metadata": {},
   "outputs": [],
   "source": [
    "## drop some redundant columns for the data merge\n",
    "COLS_TO_DROP = [\"Title\", \"ArtistName\"]\n",
    "spotify_df.drop(COLS_TO_DROP, axis=1, inplace=True)"
   ]
  },
  {
   "cell_type": "code",
   "execution_count": 145,
   "metadata": {},
   "outputs": [
    {
     "data": {
      "text/plain": "   SongNumber              SongID   AlbumID  \\\n0       77629  SOUVXYU12A58A79321  423361.0   \n1      575703  SOGIEGA12AC3DF51C4  775986.0   \n\n                                  AlbumName            ArtistID  \\\n0                              Fright Night  ARWIA8D1187B990A0C   \n1  Everything is Pretty Much Totally Fucked  AR7Z8921187B99E472   \n\n   ArtistLatitude ArtistLocation  ArtistLongitude    ArtistName  Danceability  \\\n0             NaN            NaN              NaN  STRATOVARIUS           0.0   \n1             NaN       Michigan              NaN   Fred Thomas           0.0   \n\n   ...  KeySignatureConfidence    Tempo  TimeSignature  \\\n0  ...                   0.838  134.603            4.0   \n1  ...                   0.955   57.563            3.0   \n\n   TimeSignatureConfidence        Title    Year song_hotttnesss  \\\n0                    0.256   Fire Dance  1989.0         0.66668   \n1                    0.867  Don't Worry     0.0             NaN   \n\n   artist_hotttnesss                                      artist_mbtags  \\\n0           0.588476  ['finnish' 'power metal' 'metal' 'finlandais' ...   \n1           0.000000                                                 []   \n\n   artist_mbtags_count  \n0                  NaN  \n1                  2.0  \n\n[2 rows x 22 columns]",
      "text/html": "<div>\n<style scoped>\n    .dataframe tbody tr th:only-of-type {\n        vertical-align: middle;\n    }\n\n    .dataframe tbody tr th {\n        vertical-align: top;\n    }\n\n    .dataframe thead th {\n        text-align: right;\n    }\n</style>\n<table border=\"1\" class=\"dataframe\">\n  <thead>\n    <tr style=\"text-align: right;\">\n      <th></th>\n      <th>SongNumber</th>\n      <th>SongID</th>\n      <th>AlbumID</th>\n      <th>AlbumName</th>\n      <th>ArtistID</th>\n      <th>ArtistLatitude</th>\n      <th>ArtistLocation</th>\n      <th>ArtistLongitude</th>\n      <th>ArtistName</th>\n      <th>Danceability</th>\n      <th>...</th>\n      <th>KeySignatureConfidence</th>\n      <th>Tempo</th>\n      <th>TimeSignature</th>\n      <th>TimeSignatureConfidence</th>\n      <th>Title</th>\n      <th>Year</th>\n      <th>song_hotttnesss</th>\n      <th>artist_hotttnesss</th>\n      <th>artist_mbtags</th>\n      <th>artist_mbtags_count</th>\n    </tr>\n  </thead>\n  <tbody>\n    <tr>\n      <th>0</th>\n      <td>77629</td>\n      <td>SOUVXYU12A58A79321</td>\n      <td>423361.0</td>\n      <td>Fright Night</td>\n      <td>ARWIA8D1187B990A0C</td>\n      <td>NaN</td>\n      <td>NaN</td>\n      <td>NaN</td>\n      <td>STRATOVARIUS</td>\n      <td>0.0</td>\n      <td>...</td>\n      <td>0.838</td>\n      <td>134.603</td>\n      <td>4.0</td>\n      <td>0.256</td>\n      <td>Fire Dance</td>\n      <td>1989.0</td>\n      <td>0.66668</td>\n      <td>0.588476</td>\n      <td>['finnish' 'power metal' 'metal' 'finlandais' ...</td>\n      <td>NaN</td>\n    </tr>\n    <tr>\n      <th>1</th>\n      <td>575703</td>\n      <td>SOGIEGA12AC3DF51C4</td>\n      <td>775986.0</td>\n      <td>Everything is Pretty Much Totally Fucked</td>\n      <td>AR7Z8921187B99E472</td>\n      <td>NaN</td>\n      <td>Michigan</td>\n      <td>NaN</td>\n      <td>Fred Thomas</td>\n      <td>0.0</td>\n      <td>...</td>\n      <td>0.955</td>\n      <td>57.563</td>\n      <td>3.0</td>\n      <td>0.867</td>\n      <td>Don't Worry</td>\n      <td>0.0</td>\n      <td>NaN</td>\n      <td>0.000000</td>\n      <td>[]</td>\n      <td>2.0</td>\n    </tr>\n  </tbody>\n</table>\n<p>2 rows × 22 columns</p>\n</div>"
     },
     "execution_count": 145,
     "metadata": {},
     "output_type": "execute_result"
    }
   ],
   "source": [
    "full_df.head(2)"
   ]
  },
  {
   "cell_type": "code",
   "execution_count": 146,
   "outputs": [
    {
     "data": {
      "text/plain": "   SongNumber                SearchStr market          SearchStr_nopar  \\\n0       77629  fire dance stratovarius     it  fire dance stratovarius   \n1      575703  don't worry fred thomas     us  don't worry fred thomas   \n\n    SearchStr_decode_nopar                  SongID SpotifySongTitle  \\\n0  fire dance stratovarius  3YOhXYCLFRQxEmUlzjiWEJ       Fire Dance   \n1  don't worry fred thomas  53RfjM48r9xNywpDiog6zG      Don't Worry   \n\n  SpotifyArtistTitle  Popularity         SpotifySearchStr  \\\n0       Stratovarius        17.0  fire dance stratovarius   \n1        Fred Thomas         1.0  don't worry fred thomas   \n\n    SpotifySearchStr_nopar SpotifySearchStr_decode_nopar  \n0  fire dance stratovarius       fire dance stratovarius  \n1  don't worry fred thomas       don't worry fred thomas  ",
      "text/html": "<div>\n<style scoped>\n    .dataframe tbody tr th:only-of-type {\n        vertical-align: middle;\n    }\n\n    .dataframe tbody tr th {\n        vertical-align: top;\n    }\n\n    .dataframe thead th {\n        text-align: right;\n    }\n</style>\n<table border=\"1\" class=\"dataframe\">\n  <thead>\n    <tr style=\"text-align: right;\">\n      <th></th>\n      <th>SongNumber</th>\n      <th>SearchStr</th>\n      <th>market</th>\n      <th>SearchStr_nopar</th>\n      <th>SearchStr_decode_nopar</th>\n      <th>SongID</th>\n      <th>SpotifySongTitle</th>\n      <th>SpotifyArtistTitle</th>\n      <th>Popularity</th>\n      <th>SpotifySearchStr</th>\n      <th>SpotifySearchStr_nopar</th>\n      <th>SpotifySearchStr_decode_nopar</th>\n    </tr>\n  </thead>\n  <tbody>\n    <tr>\n      <th>0</th>\n      <td>77629</td>\n      <td>fire dance stratovarius</td>\n      <td>it</td>\n      <td>fire dance stratovarius</td>\n      <td>fire dance stratovarius</td>\n      <td>3YOhXYCLFRQxEmUlzjiWEJ</td>\n      <td>Fire Dance</td>\n      <td>Stratovarius</td>\n      <td>17.0</td>\n      <td>fire dance stratovarius</td>\n      <td>fire dance stratovarius</td>\n      <td>fire dance stratovarius</td>\n    </tr>\n    <tr>\n      <th>1</th>\n      <td>575703</td>\n      <td>don't worry fred thomas</td>\n      <td>us</td>\n      <td>don't worry fred thomas</td>\n      <td>don't worry fred thomas</td>\n      <td>53RfjM48r9xNywpDiog6zG</td>\n      <td>Don't Worry</td>\n      <td>Fred Thomas</td>\n      <td>1.0</td>\n      <td>don't worry fred thomas</td>\n      <td>don't worry fred thomas</td>\n      <td>don't worry fred thomas</td>\n    </tr>\n  </tbody>\n</table>\n</div>"
     },
     "execution_count": 146,
     "metadata": {},
     "output_type": "execute_result"
    }
   ],
   "source": [
    "spotify_df.head(2)"
   ],
   "metadata": {
    "collapsed": false,
    "pycharm": {
     "name": "#%%\n"
    }
   }
  },
  {
   "cell_type": "code",
   "execution_count": 147,
   "metadata": {},
   "outputs": [],
   "source": [
    "## merge the full df with the initial spotify df\n",
    "OUTPUT_DF = full_df.merge(spotify_df, how=\"left\", on=\"SongNumber\")"
   ]
  },
  {
   "cell_type": "code",
   "execution_count": 148,
   "metadata": {},
   "outputs": [
    {
     "data": {
      "text/plain": "       SongNumber            SongID_x   AlbumID  \\\n0           77629  SOUVXYU12A58A79321  423361.0   \n1          575703  SOGIEGA12AC3DF51C4  775986.0   \n2          857332  SOXJQTD12A8C134EED  252256.0   \n3           44180  SODVGJM12A8AE4546A  135949.0   \n4          239962  SOSJJWU12AB01889D2  805134.0   \n...           ...                 ...       ...   \n30114      899929  SOJPIVF12A8C1417FA  594629.0   \n30115      638289  SOQFRGN12AB01838CC  643847.0   \n30116      156156  SOFLCNO12A6D4FD7D0  128126.0   \n30117      331051  SOUBDJO12AC468A2CC  819385.0   \n30118      485262  SOTDLXZ12AB0185CC2  422294.0   \n\n                                               AlbumName            ArtistID  \\\n0                                           Fright Night  ARWIA8D1187B990A0C   \n1               Everything is Pretty Much Totally Fucked  AR7Z8921187B99E472   \n2      Chops: Dark: Music From and Inspired By The Or...  ARGABPJ1187B99C6E3   \n3                                             Deep River  ARNG61X1187B98C7DF   \n4                               Love_ Sex_ and Situation  ARHOC6Y1187B99F332   \n...                                                  ...                 ...   \n30114                                           Everlord  AR6CA9X1187B98EDB3   \n30115                                              Rompe  ARERPXV122BCFCB3A9   \n30116                                             Alaska  AR7GUNF1187B990CCF   \n30117                                     The Collection  ARYDWW01187B9B1B65   \n30118                       Acceptance Speech Re-Written  ARXFPEH12509411E70   \n\n       ArtistLatitude ArtistLocation  ArtistLongitude  \\\n0                 NaN            NaN              NaN   \n1                 NaN       Michigan              NaN   \n2                 NaN            NaN              NaN   \n3            33.43451   Talladega AL        -86.10269   \n4                 NaN     New Jersey              NaN   \n...               ...            ...              ...   \n30114             NaN            NaN              NaN   \n30115             NaN            NaN              NaN   \n30116        35.22250   Charlotte NC        -80.83754   \n30117        51.50632         London         -0.12714   \n30118             NaN            NaN              NaN   \n\n                           ArtistName  Danceability  ...  market  \\\n0                        STRATOVARIUS           0.0  ...      it   \n1                         Fred Thomas           0.0  ...      us   \n2                               Chops           0.0  ...     NaN   \n3      The Five Blind Boys Of Alabama           0.0  ...     NaN   \n4                 Deviants of Reality           0.0  ...      us   \n...                               ...           ...  ...     ...   \n30114                    Lord Kossity           0.0  ...      us   \n30115                  María Villalón           0.0  ...     NaN   \n30116       Between The Buried And Me           0.0  ...      us   \n30117                      Girlschool           0.0  ...      nl   \n30118                Hip Hop Pantsula           0.0  ...     NaN   \n\n                                      SearchStr_nopar  \\\n0                             fire dance stratovarius   \n1                             don't worry fred thomas   \n2                                                 NaN   \n3                                                 NaN   \n4      intro/love line interlude1 deviants of reality   \n...                                               ...   \n30114                           gunshots lord kossity   \n30115                                             NaN   \n30116           all bodies  between the buried and me   \n30117                           tiger feet girlschool   \n30118                                             NaN   \n\n                               SearchStr_decode_nopar                SongID_y  \\\n0                             fire dance stratovarius  3YOhXYCLFRQxEmUlzjiWEJ   \n1                             don't worry fred thomas  53RfjM48r9xNywpDiog6zG   \n2                                                 NaN                     NaN   \n3                                                 NaN                     NaN   \n4      intro/love line interlude1 deviants of reality  73vcZCFNErwqHxuS1BXH0e   \n...                                               ...                     ...   \n30114                           gunshots lord kossity  55FoGIlAtulc9Etlxo8Qcg   \n30115                                             NaN                     NaN   \n30116           all bodies  between the buried and me  5Q2n8hxtCLti3rmYHYzpfm   \n30117                           tiger feet girlschool  39GWawvkSNigCLV02q7kva   \n30118                                             NaN                     NaN   \n\n                  SpotifySongTitle         SpotifyArtistTitle Popularity  \\\n0                       Fire Dance               Stratovarius       17.0   \n1                      Don't Worry                Fred Thomas        1.0   \n2                              NaN                        NaN        NaN   \n3                              NaN                        NaN        NaN   \n4      Intro/Love Line Interlude 1        Deviants Of Reality        0.0   \n...                            ...                        ...        ...   \n30114                     Gunshots               Lord Kossity        0.0   \n30115                          NaN                        NaN        NaN   \n30116                   All Bodies  Between The Buried And Me       29.0   \n30117                   Tiger Feet                 Girlschool        6.0   \n30118                          NaN                        NaN        NaN   \n\n                                      SpotifySearchStr  \\\n0                              fire dance stratovarius   \n1                              don't worry fred thomas   \n2                                                  NaN   \n3                                                  NaN   \n4      intro/love line interlude 1 deviants of reality   \n...                                                ...   \n30114                            gunshots lord kossity   \n30115                                              NaN   \n30116             all bodies between the buried and me   \n30117                            tiger feet girlschool   \n30118                                              NaN   \n\n                                SpotifySearchStr_nopar  \\\n0                              fire dance stratovarius   \n1                              don't worry fred thomas   \n2                                                  NaN   \n3                                                  NaN   \n4      intro/love line interlude 1 deviants of reality   \n...                                                ...   \n30114                            gunshots lord kossity   \n30115                                              NaN   \n30116             all bodies between the buried and me   \n30117                            tiger feet girlschool   \n30118                                              NaN   \n\n                         SpotifySearchStr_decode_nopar  \n0                              fire dance stratovarius  \n1                              don't worry fred thomas  \n2                                                  NaN  \n3                                                  NaN  \n4      intro/love line interlude 1 deviants of reality  \n...                                                ...  \n30114                            gunshots lord kossity  \n30115                                              NaN  \n30116             all bodies between the buried and me  \n30117                            tiger feet girlschool  \n30118                                              NaN  \n\n[30119 rows x 33 columns]",
      "text/html": "<div>\n<style scoped>\n    .dataframe tbody tr th:only-of-type {\n        vertical-align: middle;\n    }\n\n    .dataframe tbody tr th {\n        vertical-align: top;\n    }\n\n    .dataframe thead th {\n        text-align: right;\n    }\n</style>\n<table border=\"1\" class=\"dataframe\">\n  <thead>\n    <tr style=\"text-align: right;\">\n      <th></th>\n      <th>SongNumber</th>\n      <th>SongID_x</th>\n      <th>AlbumID</th>\n      <th>AlbumName</th>\n      <th>ArtistID</th>\n      <th>ArtistLatitude</th>\n      <th>ArtistLocation</th>\n      <th>ArtistLongitude</th>\n      <th>ArtistName</th>\n      <th>Danceability</th>\n      <th>...</th>\n      <th>market</th>\n      <th>SearchStr_nopar</th>\n      <th>SearchStr_decode_nopar</th>\n      <th>SongID_y</th>\n      <th>SpotifySongTitle</th>\n      <th>SpotifyArtistTitle</th>\n      <th>Popularity</th>\n      <th>SpotifySearchStr</th>\n      <th>SpotifySearchStr_nopar</th>\n      <th>SpotifySearchStr_decode_nopar</th>\n    </tr>\n  </thead>\n  <tbody>\n    <tr>\n      <th>0</th>\n      <td>77629</td>\n      <td>SOUVXYU12A58A79321</td>\n      <td>423361.0</td>\n      <td>Fright Night</td>\n      <td>ARWIA8D1187B990A0C</td>\n      <td>NaN</td>\n      <td>NaN</td>\n      <td>NaN</td>\n      <td>STRATOVARIUS</td>\n      <td>0.0</td>\n      <td>...</td>\n      <td>it</td>\n      <td>fire dance stratovarius</td>\n      <td>fire dance stratovarius</td>\n      <td>3YOhXYCLFRQxEmUlzjiWEJ</td>\n      <td>Fire Dance</td>\n      <td>Stratovarius</td>\n      <td>17.0</td>\n      <td>fire dance stratovarius</td>\n      <td>fire dance stratovarius</td>\n      <td>fire dance stratovarius</td>\n    </tr>\n    <tr>\n      <th>1</th>\n      <td>575703</td>\n      <td>SOGIEGA12AC3DF51C4</td>\n      <td>775986.0</td>\n      <td>Everything is Pretty Much Totally Fucked</td>\n      <td>AR7Z8921187B99E472</td>\n      <td>NaN</td>\n      <td>Michigan</td>\n      <td>NaN</td>\n      <td>Fred Thomas</td>\n      <td>0.0</td>\n      <td>...</td>\n      <td>us</td>\n      <td>don't worry fred thomas</td>\n      <td>don't worry fred thomas</td>\n      <td>53RfjM48r9xNywpDiog6zG</td>\n      <td>Don't Worry</td>\n      <td>Fred Thomas</td>\n      <td>1.0</td>\n      <td>don't worry fred thomas</td>\n      <td>don't worry fred thomas</td>\n      <td>don't worry fred thomas</td>\n    </tr>\n    <tr>\n      <th>2</th>\n      <td>857332</td>\n      <td>SOXJQTD12A8C134EED</td>\n      <td>252256.0</td>\n      <td>Chops: Dark: Music From and Inspired By The Or...</td>\n      <td>ARGABPJ1187B99C6E3</td>\n      <td>NaN</td>\n      <td>NaN</td>\n      <td>NaN</td>\n      <td>Chops</td>\n      <td>0.0</td>\n      <td>...</td>\n      <td>NaN</td>\n      <td>NaN</td>\n      <td>NaN</td>\n      <td>NaN</td>\n      <td>NaN</td>\n      <td>NaN</td>\n      <td>NaN</td>\n      <td>NaN</td>\n      <td>NaN</td>\n      <td>NaN</td>\n    </tr>\n    <tr>\n      <th>3</th>\n      <td>44180</td>\n      <td>SODVGJM12A8AE4546A</td>\n      <td>135949.0</td>\n      <td>Deep River</td>\n      <td>ARNG61X1187B98C7DF</td>\n      <td>33.43451</td>\n      <td>Talladega AL</td>\n      <td>-86.10269</td>\n      <td>The Five Blind Boys Of Alabama</td>\n      <td>0.0</td>\n      <td>...</td>\n      <td>NaN</td>\n      <td>NaN</td>\n      <td>NaN</td>\n      <td>NaN</td>\n      <td>NaN</td>\n      <td>NaN</td>\n      <td>NaN</td>\n      <td>NaN</td>\n      <td>NaN</td>\n      <td>NaN</td>\n    </tr>\n    <tr>\n      <th>4</th>\n      <td>239962</td>\n      <td>SOSJJWU12AB01889D2</td>\n      <td>805134.0</td>\n      <td>Love_ Sex_ and Situation</td>\n      <td>ARHOC6Y1187B99F332</td>\n      <td>NaN</td>\n      <td>New Jersey</td>\n      <td>NaN</td>\n      <td>Deviants of Reality</td>\n      <td>0.0</td>\n      <td>...</td>\n      <td>us</td>\n      <td>intro/love line interlude1 deviants of reality</td>\n      <td>intro/love line interlude1 deviants of reality</td>\n      <td>73vcZCFNErwqHxuS1BXH0e</td>\n      <td>Intro/Love Line Interlude 1</td>\n      <td>Deviants Of Reality</td>\n      <td>0.0</td>\n      <td>intro/love line interlude 1 deviants of reality</td>\n      <td>intro/love line interlude 1 deviants of reality</td>\n      <td>intro/love line interlude 1 deviants of reality</td>\n    </tr>\n    <tr>\n      <th>...</th>\n      <td>...</td>\n      <td>...</td>\n      <td>...</td>\n      <td>...</td>\n      <td>...</td>\n      <td>...</td>\n      <td>...</td>\n      <td>...</td>\n      <td>...</td>\n      <td>...</td>\n      <td>...</td>\n      <td>...</td>\n      <td>...</td>\n      <td>...</td>\n      <td>...</td>\n      <td>...</td>\n      <td>...</td>\n      <td>...</td>\n      <td>...</td>\n      <td>...</td>\n      <td>...</td>\n    </tr>\n    <tr>\n      <th>30114</th>\n      <td>899929</td>\n      <td>SOJPIVF12A8C1417FA</td>\n      <td>594629.0</td>\n      <td>Everlord</td>\n      <td>AR6CA9X1187B98EDB3</td>\n      <td>NaN</td>\n      <td>NaN</td>\n      <td>NaN</td>\n      <td>Lord Kossity</td>\n      <td>0.0</td>\n      <td>...</td>\n      <td>us</td>\n      <td>gunshots lord kossity</td>\n      <td>gunshots lord kossity</td>\n      <td>55FoGIlAtulc9Etlxo8Qcg</td>\n      <td>Gunshots</td>\n      <td>Lord Kossity</td>\n      <td>0.0</td>\n      <td>gunshots lord kossity</td>\n      <td>gunshots lord kossity</td>\n      <td>gunshots lord kossity</td>\n    </tr>\n    <tr>\n      <th>30115</th>\n      <td>638289</td>\n      <td>SOQFRGN12AB01838CC</td>\n      <td>643847.0</td>\n      <td>Rompe</td>\n      <td>ARERPXV122BCFCB3A9</td>\n      <td>NaN</td>\n      <td>NaN</td>\n      <td>NaN</td>\n      <td>María Villalón</td>\n      <td>0.0</td>\n      <td>...</td>\n      <td>NaN</td>\n      <td>NaN</td>\n      <td>NaN</td>\n      <td>NaN</td>\n      <td>NaN</td>\n      <td>NaN</td>\n      <td>NaN</td>\n      <td>NaN</td>\n      <td>NaN</td>\n      <td>NaN</td>\n    </tr>\n    <tr>\n      <th>30116</th>\n      <td>156156</td>\n      <td>SOFLCNO12A6D4FD7D0</td>\n      <td>128126.0</td>\n      <td>Alaska</td>\n      <td>AR7GUNF1187B990CCF</td>\n      <td>35.22250</td>\n      <td>Charlotte NC</td>\n      <td>-80.83754</td>\n      <td>Between The Buried And Me</td>\n      <td>0.0</td>\n      <td>...</td>\n      <td>us</td>\n      <td>all bodies  between the buried and me</td>\n      <td>all bodies  between the buried and me</td>\n      <td>5Q2n8hxtCLti3rmYHYzpfm</td>\n      <td>All Bodies</td>\n      <td>Between The Buried And Me</td>\n      <td>29.0</td>\n      <td>all bodies between the buried and me</td>\n      <td>all bodies between the buried and me</td>\n      <td>all bodies between the buried and me</td>\n    </tr>\n    <tr>\n      <th>30117</th>\n      <td>331051</td>\n      <td>SOUBDJO12AC468A2CC</td>\n      <td>819385.0</td>\n      <td>The Collection</td>\n      <td>ARYDWW01187B9B1B65</td>\n      <td>51.50632</td>\n      <td>London</td>\n      <td>-0.12714</td>\n      <td>Girlschool</td>\n      <td>0.0</td>\n      <td>...</td>\n      <td>nl</td>\n      <td>tiger feet girlschool</td>\n      <td>tiger feet girlschool</td>\n      <td>39GWawvkSNigCLV02q7kva</td>\n      <td>Tiger Feet</td>\n      <td>Girlschool</td>\n      <td>6.0</td>\n      <td>tiger feet girlschool</td>\n      <td>tiger feet girlschool</td>\n      <td>tiger feet girlschool</td>\n    </tr>\n    <tr>\n      <th>30118</th>\n      <td>485262</td>\n      <td>SOTDLXZ12AB0185CC2</td>\n      <td>422294.0</td>\n      <td>Acceptance Speech Re-Written</td>\n      <td>ARXFPEH12509411E70</td>\n      <td>NaN</td>\n      <td>NaN</td>\n      <td>NaN</td>\n      <td>Hip Hop Pantsula</td>\n      <td>0.0</td>\n      <td>...</td>\n      <td>NaN</td>\n      <td>NaN</td>\n      <td>NaN</td>\n      <td>NaN</td>\n      <td>NaN</td>\n      <td>NaN</td>\n      <td>NaN</td>\n      <td>NaN</td>\n      <td>NaN</td>\n      <td>NaN</td>\n    </tr>\n  </tbody>\n</table>\n<p>30119 rows × 33 columns</p>\n</div>"
     },
     "execution_count": 148,
     "metadata": {},
     "output_type": "execute_result"
    }
   ],
   "source": [
    "OUTPUT_DF\n"
   ]
  },
  {
   "cell_type": "code",
   "execution_count": 149,
   "metadata": {},
   "outputs": [],
   "source": [
    "## now merge the output_df with the track_Features_df on SongID_y-left, id-right. SongID_x is the song id according to the MSD\n",
    "OUTPUT_DF = OUTPUT_DF.merge(track_features_df, how=\"left\", left_on=\"SongID_y\", right_on=\"id\")"
   ]
  },
  {
   "cell_type": "code",
   "execution_count": 150,
   "metadata": {},
   "outputs": [
    {
     "name": "stdout",
     "output_type": "stream",
     "text": [
      "(30119, 51)\n"
     ]
    },
    {
     "data": {
      "text/plain": "(22606, 51)"
     },
     "execution_count": 150,
     "metadata": {},
     "output_type": "execute_result"
    }
   ],
   "source": [
    "print(OUTPUT_DF.shape)\n",
    "\n",
    "## Get only the ones without null popularity\n",
    "filt_OUTPUT_DF = OUTPUT_DF[~OUTPUT_DF.Popularity.isnull()]\n",
    "filt_OUTPUT_DF.shape"
   ]
  },
  {
   "cell_type": "code",
   "execution_count": 152,
   "outputs": [
    {
     "data": {
      "text/plain": "       SongNumber            SongID_x   AlbumID  \\\n0           77629  SOUVXYU12A58A79321  423361.0   \n1          575703  SOGIEGA12AC3DF51C4  775986.0   \n4          239962  SOSJJWU12AB01889D2  805134.0   \n5          793702  SORTWFZ12A58A784B1  255202.0   \n6          394778  SODVZTT12A58A77F53  246534.0   \n...           ...                 ...       ...   \n30111      507421  SOFXACM12A67ADE802   69295.0   \n30113      945623  SONUYCL12A8C142912  610673.0   \n30114      899929  SOJPIVF12A8C1417FA  594629.0   \n30116      156156  SOFLCNO12A6D4FD7D0  128126.0   \n30117      331051  SOUBDJO12AC468A2CC  819385.0   \n\n                                      AlbumName            ArtistID  \\\n0                                  Fright Night  ARWIA8D1187B990A0C   \n1      Everything is Pretty Much Totally Fucked  AR7Z8921187B99E472   \n4                      Love_ Sex_ and Situation  ARHOC6Y1187B99F332   \n5                                       Ireland  ARBL2N51187B99ADBB   \n6                               Escape Velocity  ARFC12Q1187FB40F64   \n...                                         ...                 ...   \n30111                               In My Songs  AR6U7F11187FB532AE   \n30113                        Still Out Of Order  ARNDAIR1187FB39934   \n30114                                  Everlord  AR6CA9X1187B98EDB3   \n30116                                    Alaska  AR7GUNF1187B990CCF   \n30117                            The Collection  ARYDWW01187B9B1B65   \n\n       ArtistLatitude                        ArtistLocation  ArtistLongitude  \\\n0                 NaN                                   NaN              NaN   \n1                 NaN                              Michigan              NaN   \n4                 NaN                            New Jersey              NaN   \n5            32.35039                        Cleburne Texas        -97.38762   \n6            52.37312  Amsterdam Not Applicable Netherlands          4.89319   \n...               ...                                   ...              ...   \n30111             NaN                          Cleveland OH              NaN   \n30113             NaN                                   NaN              NaN   \n30114             NaN                                   NaN              NaN   \n30116        35.22250                          Charlotte NC        -80.83754   \n30117        51.50632                                London         -0.12714   \n\n                      ArtistName  Danceability  ...  liveness  valence  \\\n0                   STRATOVARIUS           0.0  ...    0.0579   0.6670   \n1                    Fred Thomas           0.0  ...    0.1220   0.5060   \n4            Deviants of Reality           0.0  ...    0.2960   0.2480   \n5                 Foster & Allen           0.0  ...    0.1160   0.2780   \n6                   Finn's Motel           0.0  ...    0.7180   0.0870   \n...                          ...           ...  ...       ...      ...   \n30111              Gerald Levert           0.0  ...    0.0561   0.4800   \n30113                  Infa Riot           0.0  ...    0.3600   0.6710   \n30114               Lord Kossity           0.0  ...    0.0560   0.5760   \n30116  Between The Buried And Me           0.0  ...    0.4020   0.0963   \n30117                 Girlschool           0.0  ...    0.7740   0.1610   \n\n         tempo            type                      id  \\\n0      134.096  audio_features  3YOhXYCLFRQxEmUlzjiWEJ   \n1       76.672  audio_features  53RfjM48r9xNywpDiog6zG   \n4       82.060  audio_features  73vcZCFNErwqHxuS1BXH0e   \n5      170.527  audio_features  5V2GVAhUtjXwEfYNUjDUyz   \n6      138.553  audio_features  0Qdy0Vu9xir8mjc6iQ6vTA   \n...        ...             ...                     ...   \n30111  153.062  audio_features  5aTmT11PJBboGj0whUxRYa   \n30113  137.069  audio_features  2VN39j3bWyloxfQhn1gkr8   \n30114   94.553  audio_features  55FoGIlAtulc9Etlxo8Qcg   \n30116  151.271  audio_features  5Q2n8hxtCLti3rmYHYzpfm   \n30117  101.886  audio_features  39GWawvkSNigCLV02q7kva   \n\n                                        uri  \\\n0      spotify:track:3YOhXYCLFRQxEmUlzjiWEJ   \n1      spotify:track:53RfjM48r9xNywpDiog6zG   \n4      spotify:track:73vcZCFNErwqHxuS1BXH0e   \n5      spotify:track:5V2GVAhUtjXwEfYNUjDUyz   \n6      spotify:track:0Qdy0Vu9xir8mjc6iQ6vTA   \n...                                     ...   \n30111  spotify:track:5aTmT11PJBboGj0whUxRYa   \n30113  spotify:track:2VN39j3bWyloxfQhn1gkr8   \n30114  spotify:track:55FoGIlAtulc9Etlxo8Qcg   \n30116  spotify:track:5Q2n8hxtCLti3rmYHYzpfm   \n30117  spotify:track:39GWawvkSNigCLV02q7kva   \n\n                                              track_href  \\\n0      https://api.spotify.com/v1/tracks/3YOhXYCLFRQx...   \n1      https://api.spotify.com/v1/tracks/53RfjM48r9xN...   \n4      https://api.spotify.com/v1/tracks/73vcZCFNErwq...   \n5      https://api.spotify.com/v1/tracks/5V2GVAhUtjXw...   \n6      https://api.spotify.com/v1/tracks/0Qdy0Vu9xir8...   \n...                                                  ...   \n30111  https://api.spotify.com/v1/tracks/5aTmT11PJBbo...   \n30113  https://api.spotify.com/v1/tracks/2VN39j3bWylo...   \n30114  https://api.spotify.com/v1/tracks/55FoGIlAtulc...   \n30116  https://api.spotify.com/v1/tracks/5Q2n8hxtCLti...   \n30117  https://api.spotify.com/v1/tracks/39GWawvkSNig...   \n\n                                            analysis_url  duration_ms  \\\n0      https://api.spotify.com/v1/audio-analysis/3YOh...     136933.0   \n1      https://api.spotify.com/v1/audio-analysis/53Rf...     256827.0   \n4      https://api.spotify.com/v1/audio-analysis/73vc...      87800.0   \n5      https://api.spotify.com/v1/audio-analysis/5V2G...     205347.0   \n6      https://api.spotify.com/v1/audio-analysis/0Qdy...     101947.0   \n...                                                  ...          ...   \n30111  https://api.spotify.com/v1/audio-analysis/5aTm...     229693.0   \n30113  https://api.spotify.com/v1/audio-analysis/2VN3...     102867.0   \n30114  https://api.spotify.com/v1/audio-analysis/55Fo...     208600.0   \n30116  https://api.spotify.com/v1/audio-analysis/5Q2n...     372053.0   \n30117  https://api.spotify.com/v1/audio-analysis/39GW...     271307.0   \n\n       time_signature  \n0                 4.0  \n1                 3.0  \n4                 4.0  \n5                 4.0  \n6                 4.0  \n...               ...  \n30111             4.0  \n30113             4.0  \n30114             4.0  \n30116             4.0  \n30117             4.0  \n\n[22606 rows x 51 columns]",
      "text/html": "<div>\n<style scoped>\n    .dataframe tbody tr th:only-of-type {\n        vertical-align: middle;\n    }\n\n    .dataframe tbody tr th {\n        vertical-align: top;\n    }\n\n    .dataframe thead th {\n        text-align: right;\n    }\n</style>\n<table border=\"1\" class=\"dataframe\">\n  <thead>\n    <tr style=\"text-align: right;\">\n      <th></th>\n      <th>SongNumber</th>\n      <th>SongID_x</th>\n      <th>AlbumID</th>\n      <th>AlbumName</th>\n      <th>ArtistID</th>\n      <th>ArtistLatitude</th>\n      <th>ArtistLocation</th>\n      <th>ArtistLongitude</th>\n      <th>ArtistName</th>\n      <th>Danceability</th>\n      <th>...</th>\n      <th>liveness</th>\n      <th>valence</th>\n      <th>tempo</th>\n      <th>type</th>\n      <th>id</th>\n      <th>uri</th>\n      <th>track_href</th>\n      <th>analysis_url</th>\n      <th>duration_ms</th>\n      <th>time_signature</th>\n    </tr>\n  </thead>\n  <tbody>\n    <tr>\n      <th>0</th>\n      <td>77629</td>\n      <td>SOUVXYU12A58A79321</td>\n      <td>423361.0</td>\n      <td>Fright Night</td>\n      <td>ARWIA8D1187B990A0C</td>\n      <td>NaN</td>\n      <td>NaN</td>\n      <td>NaN</td>\n      <td>STRATOVARIUS</td>\n      <td>0.0</td>\n      <td>...</td>\n      <td>0.0579</td>\n      <td>0.6670</td>\n      <td>134.096</td>\n      <td>audio_features</td>\n      <td>3YOhXYCLFRQxEmUlzjiWEJ</td>\n      <td>spotify:track:3YOhXYCLFRQxEmUlzjiWEJ</td>\n      <td>https://api.spotify.com/v1/tracks/3YOhXYCLFRQx...</td>\n      <td>https://api.spotify.com/v1/audio-analysis/3YOh...</td>\n      <td>136933.0</td>\n      <td>4.0</td>\n    </tr>\n    <tr>\n      <th>1</th>\n      <td>575703</td>\n      <td>SOGIEGA12AC3DF51C4</td>\n      <td>775986.0</td>\n      <td>Everything is Pretty Much Totally Fucked</td>\n      <td>AR7Z8921187B99E472</td>\n      <td>NaN</td>\n      <td>Michigan</td>\n      <td>NaN</td>\n      <td>Fred Thomas</td>\n      <td>0.0</td>\n      <td>...</td>\n      <td>0.1220</td>\n      <td>0.5060</td>\n      <td>76.672</td>\n      <td>audio_features</td>\n      <td>53RfjM48r9xNywpDiog6zG</td>\n      <td>spotify:track:53RfjM48r9xNywpDiog6zG</td>\n      <td>https://api.spotify.com/v1/tracks/53RfjM48r9xN...</td>\n      <td>https://api.spotify.com/v1/audio-analysis/53Rf...</td>\n      <td>256827.0</td>\n      <td>3.0</td>\n    </tr>\n    <tr>\n      <th>4</th>\n      <td>239962</td>\n      <td>SOSJJWU12AB01889D2</td>\n      <td>805134.0</td>\n      <td>Love_ Sex_ and Situation</td>\n      <td>ARHOC6Y1187B99F332</td>\n      <td>NaN</td>\n      <td>New Jersey</td>\n      <td>NaN</td>\n      <td>Deviants of Reality</td>\n      <td>0.0</td>\n      <td>...</td>\n      <td>0.2960</td>\n      <td>0.2480</td>\n      <td>82.060</td>\n      <td>audio_features</td>\n      <td>73vcZCFNErwqHxuS1BXH0e</td>\n      <td>spotify:track:73vcZCFNErwqHxuS1BXH0e</td>\n      <td>https://api.spotify.com/v1/tracks/73vcZCFNErwq...</td>\n      <td>https://api.spotify.com/v1/audio-analysis/73vc...</td>\n      <td>87800.0</td>\n      <td>4.0</td>\n    </tr>\n    <tr>\n      <th>5</th>\n      <td>793702</td>\n      <td>SORTWFZ12A58A784B1</td>\n      <td>255202.0</td>\n      <td>Ireland</td>\n      <td>ARBL2N51187B99ADBB</td>\n      <td>32.35039</td>\n      <td>Cleburne Texas</td>\n      <td>-97.38762</td>\n      <td>Foster &amp; Allen</td>\n      <td>0.0</td>\n      <td>...</td>\n      <td>0.1160</td>\n      <td>0.2780</td>\n      <td>170.527</td>\n      <td>audio_features</td>\n      <td>5V2GVAhUtjXwEfYNUjDUyz</td>\n      <td>spotify:track:5V2GVAhUtjXwEfYNUjDUyz</td>\n      <td>https://api.spotify.com/v1/tracks/5V2GVAhUtjXw...</td>\n      <td>https://api.spotify.com/v1/audio-analysis/5V2G...</td>\n      <td>205347.0</td>\n      <td>4.0</td>\n    </tr>\n    <tr>\n      <th>6</th>\n      <td>394778</td>\n      <td>SODVZTT12A58A77F53</td>\n      <td>246534.0</td>\n      <td>Escape Velocity</td>\n      <td>ARFC12Q1187FB40F64</td>\n      <td>52.37312</td>\n      <td>Amsterdam Not Applicable Netherlands</td>\n      <td>4.89319</td>\n      <td>Finn's Motel</td>\n      <td>0.0</td>\n      <td>...</td>\n      <td>0.7180</td>\n      <td>0.0870</td>\n      <td>138.553</td>\n      <td>audio_features</td>\n      <td>0Qdy0Vu9xir8mjc6iQ6vTA</td>\n      <td>spotify:track:0Qdy0Vu9xir8mjc6iQ6vTA</td>\n      <td>https://api.spotify.com/v1/tracks/0Qdy0Vu9xir8...</td>\n      <td>https://api.spotify.com/v1/audio-analysis/0Qdy...</td>\n      <td>101947.0</td>\n      <td>4.0</td>\n    </tr>\n    <tr>\n      <th>...</th>\n      <td>...</td>\n      <td>...</td>\n      <td>...</td>\n      <td>...</td>\n      <td>...</td>\n      <td>...</td>\n      <td>...</td>\n      <td>...</td>\n      <td>...</td>\n      <td>...</td>\n      <td>...</td>\n      <td>...</td>\n      <td>...</td>\n      <td>...</td>\n      <td>...</td>\n      <td>...</td>\n      <td>...</td>\n      <td>...</td>\n      <td>...</td>\n      <td>...</td>\n      <td>...</td>\n    </tr>\n    <tr>\n      <th>30111</th>\n      <td>507421</td>\n      <td>SOFXACM12A67ADE802</td>\n      <td>69295.0</td>\n      <td>In My Songs</td>\n      <td>AR6U7F11187FB532AE</td>\n      <td>NaN</td>\n      <td>Cleveland OH</td>\n      <td>NaN</td>\n      <td>Gerald Levert</td>\n      <td>0.0</td>\n      <td>...</td>\n      <td>0.0561</td>\n      <td>0.4800</td>\n      <td>153.062</td>\n      <td>audio_features</td>\n      <td>5aTmT11PJBboGj0whUxRYa</td>\n      <td>spotify:track:5aTmT11PJBboGj0whUxRYa</td>\n      <td>https://api.spotify.com/v1/tracks/5aTmT11PJBbo...</td>\n      <td>https://api.spotify.com/v1/audio-analysis/5aTm...</td>\n      <td>229693.0</td>\n      <td>4.0</td>\n    </tr>\n    <tr>\n      <th>30113</th>\n      <td>945623</td>\n      <td>SONUYCL12A8C142912</td>\n      <td>610673.0</td>\n      <td>Still Out Of Order</td>\n      <td>ARNDAIR1187FB39934</td>\n      <td>NaN</td>\n      <td>NaN</td>\n      <td>NaN</td>\n      <td>Infa Riot</td>\n      <td>0.0</td>\n      <td>...</td>\n      <td>0.3600</td>\n      <td>0.6710</td>\n      <td>137.069</td>\n      <td>audio_features</td>\n      <td>2VN39j3bWyloxfQhn1gkr8</td>\n      <td>spotify:track:2VN39j3bWyloxfQhn1gkr8</td>\n      <td>https://api.spotify.com/v1/tracks/2VN39j3bWylo...</td>\n      <td>https://api.spotify.com/v1/audio-analysis/2VN3...</td>\n      <td>102867.0</td>\n      <td>4.0</td>\n    </tr>\n    <tr>\n      <th>30114</th>\n      <td>899929</td>\n      <td>SOJPIVF12A8C1417FA</td>\n      <td>594629.0</td>\n      <td>Everlord</td>\n      <td>AR6CA9X1187B98EDB3</td>\n      <td>NaN</td>\n      <td>NaN</td>\n      <td>NaN</td>\n      <td>Lord Kossity</td>\n      <td>0.0</td>\n      <td>...</td>\n      <td>0.0560</td>\n      <td>0.5760</td>\n      <td>94.553</td>\n      <td>audio_features</td>\n      <td>55FoGIlAtulc9Etlxo8Qcg</td>\n      <td>spotify:track:55FoGIlAtulc9Etlxo8Qcg</td>\n      <td>https://api.spotify.com/v1/tracks/55FoGIlAtulc...</td>\n      <td>https://api.spotify.com/v1/audio-analysis/55Fo...</td>\n      <td>208600.0</td>\n      <td>4.0</td>\n    </tr>\n    <tr>\n      <th>30116</th>\n      <td>156156</td>\n      <td>SOFLCNO12A6D4FD7D0</td>\n      <td>128126.0</td>\n      <td>Alaska</td>\n      <td>AR7GUNF1187B990CCF</td>\n      <td>35.22250</td>\n      <td>Charlotte NC</td>\n      <td>-80.83754</td>\n      <td>Between The Buried And Me</td>\n      <td>0.0</td>\n      <td>...</td>\n      <td>0.4020</td>\n      <td>0.0963</td>\n      <td>151.271</td>\n      <td>audio_features</td>\n      <td>5Q2n8hxtCLti3rmYHYzpfm</td>\n      <td>spotify:track:5Q2n8hxtCLti3rmYHYzpfm</td>\n      <td>https://api.spotify.com/v1/tracks/5Q2n8hxtCLti...</td>\n      <td>https://api.spotify.com/v1/audio-analysis/5Q2n...</td>\n      <td>372053.0</td>\n      <td>4.0</td>\n    </tr>\n    <tr>\n      <th>30117</th>\n      <td>331051</td>\n      <td>SOUBDJO12AC468A2CC</td>\n      <td>819385.0</td>\n      <td>The Collection</td>\n      <td>ARYDWW01187B9B1B65</td>\n      <td>51.50632</td>\n      <td>London</td>\n      <td>-0.12714</td>\n      <td>Girlschool</td>\n      <td>0.0</td>\n      <td>...</td>\n      <td>0.7740</td>\n      <td>0.1610</td>\n      <td>101.886</td>\n      <td>audio_features</td>\n      <td>39GWawvkSNigCLV02q7kva</td>\n      <td>spotify:track:39GWawvkSNigCLV02q7kva</td>\n      <td>https://api.spotify.com/v1/tracks/39GWawvkSNig...</td>\n      <td>https://api.spotify.com/v1/audio-analysis/39GW...</td>\n      <td>271307.0</td>\n      <td>4.0</td>\n    </tr>\n  </tbody>\n</table>\n<p>22606 rows × 51 columns</p>\n</div>"
     },
     "execution_count": 152,
     "metadata": {},
     "output_type": "execute_result"
    }
   ],
   "source": [
    "# filt_OUTPUT_DF"
   ],
   "metadata": {
    "collapsed": false,
    "pycharm": {
     "name": "#%%\n"
    }
   }
  },
  {
   "cell_type": "code",
   "execution_count": 151,
   "metadata": {},
   "outputs": [],
   "source": [
    "## write it to CSV\n",
    "# filt_OUTPUT_DF.to_csv(\"data/dataTotal.csv\", index=False)"
   ]
  }
 ]
}