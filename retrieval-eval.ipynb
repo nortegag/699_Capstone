{
 "cells": [
  {
   "cell_type": "markdown",
   "source": [
    "## Evaluating our retrieval performance\n",
    "- Basic string matching\n",
    "- Levenshtein edit distance (pairwise)\n",
    "- Jaro-Winkler distance\n",
    "\n",
    "- !! need to use song and artist strings separately, then compute similarity metric"
   ],
   "metadata": {
    "collapsed": false
   }
  },
  {
   "cell_type": "code",
   "execution_count": 89,
   "metadata": {
    "collapsed": true
   },
   "outputs": [],
   "source": [
    "\n",
    "import pandas as pd\n",
    "import re\n",
    "import matplotlib.pyplot as plt\n",
    "import seaborn as sns\n",
    "\n",
    "%matplotlib inline"
   ]
  },
  {
   "cell_type": "code",
   "execution_count": 90,
   "outputs": [],
   "source": [
    "## HELPER FUNCTION\n",
    "import unicodedata\n",
    "def shave_marks(txt):\n",
    "    \"\"\"This method removes all diacritic marks from the given string\"\"\"\n",
    "    norm_txt = unicodedata.normalize('NFD', txt)\n",
    "    shaved = ''.join(c for c in norm_txt if not unicodedata.combining(c))\n",
    "    return unicodedata.normalize('NFC', shaved)"
   ],
   "metadata": {
    "collapsed": false,
    "pycharm": {
     "name": "#%%\n"
    }
   }
  },
  {
   "cell_type": "code",
   "execution_count": 91,
   "outputs": [],
   "source": [
    "search_df = pd.read_csv(\"data/dataSpotify.csv\")"
   ],
   "metadata": {
    "collapsed": false,
    "pycharm": {
     "name": "#%%\n"
    }
   }
  },
  {
   "cell_type": "code",
   "execution_count": 92,
   "outputs": [
    {
     "name": "stdout",
     "output_type": "stream",
     "text": [
      "(31054, 11)\n"
     ]
    },
    {
     "data": {
      "text/plain": "   SongNumber                         Title                      ArtistName  \\\n0       77629                    Fire Dance                    STRATOVARIUS   \n1      575703                   Don't Worry                     Fred Thomas   \n2      857332  Guess Who's Coming To Dinner                           Chops   \n3       44180         Deep River (part two)  The Five Blind Boys Of Alabama   \n4      239962    Intro/Love Line Interlude1             Deviants of Reality   \n\n                                           SearchStr market  \\\n0                            fire dance stratovarius     it   \n1                            don't worry fred thomas     us   \n2                 guess who's coming to dinner chops     us   \n3  deep river (part two) the five blind boys of a...     us   \n4     intro/love line interlude1 deviants of reality     us   \n\n                                  SearchStr_nopar  \\\n0                         fire dance stratovarius   \n1                         don't worry fred thomas   \n2              guess who's coming to dinner chops   \n3      deep river  the five blind boys of alabama   \n4  intro/love line interlude1 deviants of reality   \n\n                           SearchStr_decode_nopar                  SongID  \\\n0                         fire dance stratovarius  3YOhXYCLFRQxEmUlzjiWEJ   \n1                         don't worry fred thomas  53RfjM48r9xNywpDiog6zG   \n2              guess who's coming to dinner chops                     NaN   \n3      deep river  the five blind boys of alabama  3XeMKCwdyW5aRqbpR9zMal   \n4  intro/love line interlude1 deviants of reality  73vcZCFNErwqHxuS1BXH0e   \n\n                     SpotifySongTitle         SpotifyArtistTitle  Popularity  \n0                          Fire Dance               Stratovarius        17.0  \n1                         Don't Worry                Fred Thomas         1.0  \n2  guess who's coming to dinner chops                        NaN         NaN  \n3       Look Where He Brought Me From  The Blind Boys Of Alabama        11.0  \n4         Intro/Love Line Interlude 1        Deviants Of Reality         0.0  ",
      "text/html": "<div>\n<style scoped>\n    .dataframe tbody tr th:only-of-type {\n        vertical-align: middle;\n    }\n\n    .dataframe tbody tr th {\n        vertical-align: top;\n    }\n\n    .dataframe thead th {\n        text-align: right;\n    }\n</style>\n<table border=\"1\" class=\"dataframe\">\n  <thead>\n    <tr style=\"text-align: right;\">\n      <th></th>\n      <th>SongNumber</th>\n      <th>Title</th>\n      <th>ArtistName</th>\n      <th>SearchStr</th>\n      <th>market</th>\n      <th>SearchStr_nopar</th>\n      <th>SearchStr_decode_nopar</th>\n      <th>SongID</th>\n      <th>SpotifySongTitle</th>\n      <th>SpotifyArtistTitle</th>\n      <th>Popularity</th>\n    </tr>\n  </thead>\n  <tbody>\n    <tr>\n      <th>0</th>\n      <td>77629</td>\n      <td>Fire Dance</td>\n      <td>STRATOVARIUS</td>\n      <td>fire dance stratovarius</td>\n      <td>it</td>\n      <td>fire dance stratovarius</td>\n      <td>fire dance stratovarius</td>\n      <td>3YOhXYCLFRQxEmUlzjiWEJ</td>\n      <td>Fire Dance</td>\n      <td>Stratovarius</td>\n      <td>17.0</td>\n    </tr>\n    <tr>\n      <th>1</th>\n      <td>575703</td>\n      <td>Don't Worry</td>\n      <td>Fred Thomas</td>\n      <td>don't worry fred thomas</td>\n      <td>us</td>\n      <td>don't worry fred thomas</td>\n      <td>don't worry fred thomas</td>\n      <td>53RfjM48r9xNywpDiog6zG</td>\n      <td>Don't Worry</td>\n      <td>Fred Thomas</td>\n      <td>1.0</td>\n    </tr>\n    <tr>\n      <th>2</th>\n      <td>857332</td>\n      <td>Guess Who's Coming To Dinner</td>\n      <td>Chops</td>\n      <td>guess who's coming to dinner chops</td>\n      <td>us</td>\n      <td>guess who's coming to dinner chops</td>\n      <td>guess who's coming to dinner chops</td>\n      <td>NaN</td>\n      <td>guess who's coming to dinner chops</td>\n      <td>NaN</td>\n      <td>NaN</td>\n    </tr>\n    <tr>\n      <th>3</th>\n      <td>44180</td>\n      <td>Deep River (part two)</td>\n      <td>The Five Blind Boys Of Alabama</td>\n      <td>deep river (part two) the five blind boys of a...</td>\n      <td>us</td>\n      <td>deep river  the five blind boys of alabama</td>\n      <td>deep river  the five blind boys of alabama</td>\n      <td>3XeMKCwdyW5aRqbpR9zMal</td>\n      <td>Look Where He Brought Me From</td>\n      <td>The Blind Boys Of Alabama</td>\n      <td>11.0</td>\n    </tr>\n    <tr>\n      <th>4</th>\n      <td>239962</td>\n      <td>Intro/Love Line Interlude1</td>\n      <td>Deviants of Reality</td>\n      <td>intro/love line interlude1 deviants of reality</td>\n      <td>us</td>\n      <td>intro/love line interlude1 deviants of reality</td>\n      <td>intro/love line interlude1 deviants of reality</td>\n      <td>73vcZCFNErwqHxuS1BXH0e</td>\n      <td>Intro/Love Line Interlude 1</td>\n      <td>Deviants Of Reality</td>\n      <td>0.0</td>\n    </tr>\n  </tbody>\n</table>\n</div>"
     },
     "execution_count": 92,
     "metadata": {},
     "output_type": "execute_result"
    }
   ],
   "source": [
    "print(search_df.shape)\n",
    "search_df.head()"
   ],
   "metadata": {
    "collapsed": false,
    "pycharm": {
     "name": "#%%\n"
    }
   }
  },
  {
   "cell_type": "code",
   "execution_count": 93,
   "outputs": [
    {
     "data": {
      "text/plain": "12854"
     },
     "execution_count": 93,
     "metadata": {},
     "output_type": "execute_result"
    }
   ],
   "source": [
    "## see which and how many values match both song and artist name as is; ~4053 rows\n",
    "len(search_df[(search_df.SpotifyArtistTitle == search_df.ArtistName) & (search_df.SpotifySongTitle == search_df.Title)])"
   ],
   "metadata": {
    "collapsed": false,
    "pycharm": {
     "name": "#%%\n"
    }
   }
  },
  {
   "cell_type": "code",
   "execution_count": 94,
   "outputs": [],
   "source": [
    "## after pre-processing, same process as with the search strings\n",
    "## get the search string by concatenating, remove parenthesis, and use decoding function to remove funky chars\n",
    "# search_df\n",
    "\n",
    "search_df[\"SpotifySearchStr\"] = search_df[\"SpotifySongTitle\"] + \" \" + search_df[\"SpotifyArtistTitle\"]\n",
    "search_df[\"SpotifySearchStr\"] = search_df[\"SpotifySearchStr\"].apply(lambda x: str(x).lower())\n",
    "\n",
    "search_df[\"SpotifySearchStr_nopar\"] = search_df.SpotifySearchStr.apply(lambda x: re.sub(\"\\(.*\\)\", \"\", x))\n",
    "search_df[\"SpotifySearchStr_decode_nopar\"] = search_df[\"SpotifySearchStr_nopar\"].apply(lambda x: shave_marks(x))"
   ],
   "metadata": {
    "collapsed": false,
    "pycharm": {
     "name": "#%%\n"
    }
   }
  },
  {
   "cell_type": "code",
   "execution_count": 95,
   "outputs": [
    {
     "data": {
      "text/plain": "(31054, 14)"
     },
     "execution_count": 95,
     "metadata": {},
     "output_type": "execute_result"
    }
   ],
   "source": [
    "search_df = search_df.dropna(subset=[\"SearchStr_decode_nopar\", \"SpotifySearchStr_decode_nopar\"])\n",
    "search_df.shape"
   ],
   "metadata": {
    "collapsed": false,
    "pycharm": {
     "name": "#%%\n"
    }
   }
  },
  {
   "cell_type": "code",
   "execution_count": 96,
   "outputs": [],
   "source": [
    "## let's now see how many exact _decode_nopar strings are in our date, popularity not null; ~3530\n",
    "## save it as a df subset to work with simlarity measures\n",
    "\n",
    "# not_match = search_df[(search_df[\"SpotifySearchStr_decode_nopar\"] != search_df[\"SearchStr_decode_nopar\"]) & (~search_df[\"Popularity\"].isna())]"
   ],
   "metadata": {
    "collapsed": false,
    "pycharm": {
     "name": "#%%\n"
    }
   }
  },
  {
   "cell_type": "code",
   "execution_count": 97,
   "outputs": [],
   "source": [
    "# not_match"
   ],
   "metadata": {
    "collapsed": false,
    "pycharm": {
     "name": "#%%\n"
    }
   }
  },
  {
   "cell_type": "code",
   "execution_count": 98,
   "outputs": [],
   "source": [
    "## install levenshtein package to compute edit distances\n",
    "# ! pip install python-Levenshtein\n",
    "\n",
    "## install jaro-winkler package for alternate string similarity metric\n",
    "# ! pip install pyjarowinkler\n"
   ],
   "metadata": {
    "collapsed": false,
    "pycharm": {
     "name": "#%%\n"
    }
   }
  },
  {
   "cell_type": "code",
   "execution_count": 101,
   "outputs": [],
   "source": [
    "## compute levenshtein edit distance for the subset\n",
    "import Levenshtein\n",
    "from pyjarowinkler import distance\n",
    "\n",
    "## list of tups, containing pairs for calculation\n",
    "l_pairs = list(zip(search_df.SearchStr_decode_nopar.values,  search_df.SpotifySearchStr_decode_nopar.values))\n",
    "distances = []\n",
    "for p in l_pairs:\n",
    "    ## L distance\n",
    "    dist = Levenshtein.distance(p[0], p[1]) / len(p[0]+p[1])\n",
    "    ## JW distance\n",
    "    dist = distance.get_jaro_distance(p[0], p[1], winkler=True, scaling=0.1)\n",
    "    # print(p)\n",
    "    # print(dist)\n",
    "\n",
    "    distances.append(dist)"
   ],
   "metadata": {
    "collapsed": false,
    "pycharm": {
     "name": "#%%\n"
    }
   }
  },
  {
   "cell_type": "code",
   "execution_count": 102,
   "outputs": [
    {
     "data": {
      "text/plain": "31054"
     },
     "execution_count": 102,
     "metadata": {},
     "output_type": "execute_result"
    }
   ],
   "source": [
    "len(distances)"
   ],
   "metadata": {
    "collapsed": false,
    "pycharm": {
     "name": "#%%\n"
    }
   }
  },
  {
   "cell_type": "code",
   "execution_count": 103,
   "outputs": [],
   "source": [
    "# distances\n",
    "search_df[\"JWdistance\"] = distances"
   ],
   "metadata": {
    "collapsed": false,
    "pycharm": {
     "name": "#%%\n"
    }
   }
  },
  {
   "cell_type": "code",
   "execution_count": 104,
   "outputs": [
    {
     "data": {
      "text/plain": "       SongNumber                      SearchStr_decode_nopar  \\\n25225      566521       holy is his name  john michael talbot   \n4788       308644   mechanikal breakdown v/a friction records   \n12289      150050                     asa nisi masa diskjokke   \n26422      646771  it's warmer in the basement cobra starship   \n\n                    SpotifySearchStr_decode_nopar  JWdistance  \n25225        holy is his name john michael talbot        0.96  \n4788                                          nan        0.00  \n12289                     asa nisi masa diskjokke        1.00  \n26422  it's warmer in the basement cobra starship        1.00  ",
      "text/html": "<div>\n<style scoped>\n    .dataframe tbody tr th:only-of-type {\n        vertical-align: middle;\n    }\n\n    .dataframe tbody tr th {\n        vertical-align: top;\n    }\n\n    .dataframe thead th {\n        text-align: right;\n    }\n</style>\n<table border=\"1\" class=\"dataframe\">\n  <thead>\n    <tr style=\"text-align: right;\">\n      <th></th>\n      <th>SongNumber</th>\n      <th>SearchStr_decode_nopar</th>\n      <th>SpotifySearchStr_decode_nopar</th>\n      <th>JWdistance</th>\n    </tr>\n  </thead>\n  <tbody>\n    <tr>\n      <th>25225</th>\n      <td>566521</td>\n      <td>holy is his name  john michael talbot</td>\n      <td>holy is his name john michael talbot</td>\n      <td>0.96</td>\n    </tr>\n    <tr>\n      <th>4788</th>\n      <td>308644</td>\n      <td>mechanikal breakdown v/a friction records</td>\n      <td>nan</td>\n      <td>0.00</td>\n    </tr>\n    <tr>\n      <th>12289</th>\n      <td>150050</td>\n      <td>asa nisi masa diskjokke</td>\n      <td>asa nisi masa diskjokke</td>\n      <td>1.00</td>\n    </tr>\n    <tr>\n      <th>26422</th>\n      <td>646771</td>\n      <td>it's warmer in the basement cobra starship</td>\n      <td>it's warmer in the basement cobra starship</td>\n      <td>1.00</td>\n    </tr>\n  </tbody>\n</table>\n</div>"
     },
     "execution_count": 104,
     "metadata": {},
     "output_type": "execute_result"
    }
   ],
   "source": [
    "## filter our columns to observe what's up with distance\n",
    "_subset = search_df[['SongNumber', 'SearchStr_decode_nopar', 'SpotifySearchStr_decode_nopar', 'JWdistance']].sample(15)\n",
    "_subset.sample(4)"
   ],
   "metadata": {
    "collapsed": false,
    "pycharm": {
     "name": "#%%\n"
    }
   }
  },
  {
   "cell_type": "code",
   "execution_count": 105,
   "outputs": [],
   "source": [
    "import matplotlib.pyplot as plt\n",
    "import seaborn as sns\n",
    "\n",
    "plt.style.use(\"fivethirtyeight\")\n",
    "\n",
    "%matplotlib inline"
   ],
   "metadata": {
    "collapsed": false,
    "pycharm": {
     "name": "#%%\n"
    }
   }
  },
  {
   "cell_type": "code",
   "execution_count": 106,
   "outputs": [
    {
     "data": {
      "text/plain": "<Figure size 720x432 with 1 Axes>",
      "image/png": "[encoded data removed]"
     },
     "metadata": {
      "needs_background": "light"
     },
     "output_type": "display_data"
    }
   ],
   "source": [
    "## viz, see distribution of our distance scores, overall how well we performed\n",
    "## summary statistics\n",
    "fig, ax = plt.subplots(figsize=(10, 6))\n",
    "\n",
    "sns.histplot(data=search_df, x='JWdistance', ax=ax, bins=50, kde=True, cumulative=True)\n",
    "plt.title(\"Histogram - count of JW scores\");"
   ],
   "metadata": {
    "collapsed": false,
    "pycharm": {
     "name": "#%%\n"
    }
   }
  },
  {
   "cell_type": "code",
   "execution_count": 107,
   "outputs": [
    {
     "name": "stdout",
     "output_type": "stream",
     "text": [
      "0.84\n"
     ]
    }
   ],
   "source": [
    "## summary descriptive statistics; use the Q1 score to keep 75% of data, based on JW score cutoff\n",
    "JW_cutoff = search_df.JWdistance.describe()[\"25%\"]\n",
    "print(JW_cutoff)"
   ],
   "metadata": {
    "collapsed": false,
    "pycharm": {
     "name": "#%%\n"
    }
   }
  },
  {
   "cell_type": "code",
   "execution_count": 111,
   "outputs": [
    {
     "data": {
      "text/plain": "(23320, 15)"
     },
     "execution_count": 111,
     "metadata": {},
     "output_type": "execute_result"
    }
   ],
   "source": [
    "## Let's try to find a good threshold to determine if the correct song was retrieve from Spotify.\n",
    "## ~.72 is a good threshold, upon manual inspection. This SHOULD be modifiable to make more conservative or liberal choices\n",
    "\n",
    "threshold_df = search_df[search_df.JWdistance >= JW_cutoff].reset_index(drop=True)\n",
    "threshold_df.shape\n",
    "## keep 75% of the data (pyjarowinkler)\n",
    "## we keep 7587 rows, in the subset. Save this as a variation of the original \"dataSpotify.csv\" and remove the JW score column"
   ],
   "metadata": {
    "collapsed": false,
    "pycharm": {
     "name": "#%%\n"
    }
   }
  },
  {
   "cell_type": "code",
   "execution_count": 109,
   "outputs": [
    {
     "data": {
      "text/plain": "       SongNumber                       Title           ArtistName  \\\n0           77629                  Fire Dance         STRATOVARIUS   \n1          575703                 Don't Worry          Fred Thomas   \n2          239962  Intro/Love Line Interlude1  Deviants of Reality   \n3          793702                   Danny Boy       Foster & Allen   \n4          394778                    Postcard         Finn's Motel   \n...           ...                         ...                  ...   \n23315      258287      I Think I'm In Trouble               Exposé   \n23316      801591     Subtellite (Argy Remix)            Timo Maas   \n23317      862112         Bill Gates_ komm...       Welle: Erdball   \n23318      286275               Love Found Me         DecembeRadio   \n23319      335416            Master & Servant            Transwave   \n\n                                            SearchStr market  \\\n0                             fire dance stratovarius     it   \n1                             don't worry fred thomas     us   \n2      intro/love line interlude1 deviants of reality     us   \n3                            danny boy foster & allen     us   \n4                               postcard finn's motel     us   \n...                                               ...    ...   \n23315                   i think i'm in trouble exposé     us   \n23316               subtellite (argy remix) timo maas     us   \n23317              bill gates_ komm... welle: erdball     us   \n23318                      love found me decemberadio     us   \n23319                      master & servant transwave     us   \n\n                                      SearchStr_nopar  \\\n0                             fire dance stratovarius   \n1                             don't worry fred thomas   \n2      intro/love line interlude1 deviants of reality   \n3                            danny boy foster & allen   \n4                               postcard finn's motel   \n...                                               ...   \n23315                   i think i'm in trouble exposé   \n23316                           subtellite  timo maas   \n23317              bill gates_ komm... welle: erdball   \n23318                      love found me decemberadio   \n23319                      master & servant transwave   \n\n                               SearchStr_decode_nopar                  SongID  \\\n0                             fire dance stratovarius  3YOhXYCLFRQxEmUlzjiWEJ   \n1                             don't worry fred thomas  53RfjM48r9xNywpDiog6zG   \n2      intro/love line interlude1 deviants of reality  73vcZCFNErwqHxuS1BXH0e   \n3                            danny boy foster & allen  5V2GVAhUtjXwEfYNUjDUyz   \n4                               postcard finn's motel  0Qdy0Vu9xir8mjc6iQ6vTA   \n...                                               ...                     ...   \n23315                   i think i'm in trouble expose  5kJskmLBJPd5KeiSRmBKA2   \n23316                           subtellite  timo maas  4zCIw0L2LymZ4iHSU0T9Et   \n23317              bill gates_ komm... welle: erdball  0qBxAcenqF2lwbGi0HRZpW   \n23318                      love found me decemberadio  3O9TJ95zrSqlg5Qk9BBq4V   \n23319                      master & servant transwave  0xpLHUe3nyQO1ObHNJWSsB   \n\n                     SpotifySongTitle   SpotifyArtistTitle  Popularity  \\\n0                          Fire Dance         Stratovarius        17.0   \n1                         Don't Worry          Fred Thomas         1.0   \n2         Intro/Love Line Interlude 1  Deviants Of Reality         0.0   \n3                           Danny Boy       Foster & Allen        26.0   \n4                            Postcard         Finn's Motel         0.0   \n...                               ...                  ...         ...   \n23315          I Think I'm In Trouble               Exposé        16.0   \n23316                      Subtellite            Timo Maas        16.0   \n23317  Bill Gates, komm fick mit mir!       Welle: Erdball        15.0   \n23318                   Love Found Me         DecembeRadio        14.0   \n23319                Master & Servant        Black & White         0.0   \n\n                                      SpotifySearchStr  \\\n0                              fire dance stratovarius   \n1                              don't worry fred thomas   \n2      intro/love line interlude 1 deviants of reality   \n3                             danny boy foster & allen   \n4                                postcard finn's motel   \n...                                                ...   \n23315                    i think i'm in trouble exposé   \n23316                             subtellite timo maas   \n23317    bill gates, komm fick mit mir! welle: erdball   \n23318                       love found me decemberadio   \n23319                   master & servant black & white   \n\n                                SpotifySearchStr_nopar  \\\n0                              fire dance stratovarius   \n1                              don't worry fred thomas   \n2      intro/love line interlude 1 deviants of reality   \n3                             danny boy foster & allen   \n4                                postcard finn's motel   \n...                                                ...   \n23315                    i think i'm in trouble exposé   \n23316                             subtellite timo maas   \n23317    bill gates, komm fick mit mir! welle: erdball   \n23318                       love found me decemberadio   \n23319                   master & servant black & white   \n\n                         SpotifySearchStr_decode_nopar  \n0                              fire dance stratovarius  \n1                              don't worry fred thomas  \n2      intro/love line interlude 1 deviants of reality  \n3                             danny boy foster & allen  \n4                                postcard finn's motel  \n...                                                ...  \n23315                    i think i'm in trouble expose  \n23316                             subtellite timo maas  \n23317    bill gates, komm fick mit mir! welle: erdball  \n23318                       love found me decemberadio  \n23319                   master & servant black & white  \n\n[23320 rows x 14 columns]",
      "text/html": "<div>\n<style scoped>\n    .dataframe tbody tr th:only-of-type {\n        vertical-align: middle;\n    }\n\n    .dataframe tbody tr th {\n        vertical-align: top;\n    }\n\n    .dataframe thead th {\n        text-align: right;\n    }\n</style>\n<table border=\"1\" class=\"dataframe\">\n  <thead>\n    <tr style=\"text-align: right;\">\n      <th></th>\n      <th>SongNumber</th>\n      <th>Title</th>\n      <th>ArtistName</th>\n      <th>SearchStr</th>\n      <th>market</th>\n      <th>SearchStr_nopar</th>\n      <th>SearchStr_decode_nopar</th>\n      <th>SongID</th>\n      <th>SpotifySongTitle</th>\n      <th>SpotifyArtistTitle</th>\n      <th>Popularity</th>\n      <th>SpotifySearchStr</th>\n      <th>SpotifySearchStr_nopar</th>\n      <th>SpotifySearchStr_decode_nopar</th>\n    </tr>\n  </thead>\n  <tbody>\n    <tr>\n      <th>0</th>\n      <td>77629</td>\n      <td>Fire Dance</td>\n      <td>STRATOVARIUS</td>\n      <td>fire dance stratovarius</td>\n      <td>it</td>\n      <td>fire dance stratovarius</td>\n      <td>fire dance stratovarius</td>\n      <td>3YOhXYCLFRQxEmUlzjiWEJ</td>\n      <td>Fire Dance</td>\n      <td>Stratovarius</td>\n      <td>17.0</td>\n      <td>fire dance stratovarius</td>\n      <td>fire dance stratovarius</td>\n      <td>fire dance stratovarius</td>\n    </tr>\n    <tr>\n      <th>1</th>\n      <td>575703</td>\n      <td>Don't Worry</td>\n      <td>Fred Thomas</td>\n      <td>don't worry fred thomas</td>\n      <td>us</td>\n      <td>don't worry fred thomas</td>\n      <td>don't worry fred thomas</td>\n      <td>53RfjM48r9xNywpDiog6zG</td>\n      <td>Don't Worry</td>\n      <td>Fred Thomas</td>\n      <td>1.0</td>\n      <td>don't worry fred thomas</td>\n      <td>don't worry fred thomas</td>\n      <td>don't worry fred thomas</td>\n    </tr>\n    <tr>\n      <th>2</th>\n      <td>239962</td>\n      <td>Intro/Love Line Interlude1</td>\n      <td>Deviants of Reality</td>\n      <td>intro/love line interlude1 deviants of reality</td>\n      <td>us</td>\n      <td>intro/love line interlude1 deviants of reality</td>\n      <td>intro/love line interlude1 deviants of reality</td>\n      <td>73vcZCFNErwqHxuS1BXH0e</td>\n      <td>Intro/Love Line Interlude 1</td>\n      <td>Deviants Of Reality</td>\n      <td>0.0</td>\n      <td>intro/love line interlude 1 deviants of reality</td>\n      <td>intro/love line interlude 1 deviants of reality</td>\n      <td>intro/love line interlude 1 deviants of reality</td>\n    </tr>\n    <tr>\n      <th>3</th>\n      <td>793702</td>\n      <td>Danny Boy</td>\n      <td>Foster &amp; Allen</td>\n      <td>danny boy foster &amp; allen</td>\n      <td>us</td>\n      <td>danny boy foster &amp; allen</td>\n      <td>danny boy foster &amp; allen</td>\n      <td>5V2GVAhUtjXwEfYNUjDUyz</td>\n      <td>Danny Boy</td>\n      <td>Foster &amp; Allen</td>\n      <td>26.0</td>\n      <td>danny boy foster &amp; allen</td>\n      <td>danny boy foster &amp; allen</td>\n      <td>danny boy foster &amp; allen</td>\n    </tr>\n    <tr>\n      <th>4</th>\n      <td>394778</td>\n      <td>Postcard</td>\n      <td>Finn's Motel</td>\n      <td>postcard finn's motel</td>\n      <td>us</td>\n      <td>postcard finn's motel</td>\n      <td>postcard finn's motel</td>\n      <td>0Qdy0Vu9xir8mjc6iQ6vTA</td>\n      <td>Postcard</td>\n      <td>Finn's Motel</td>\n      <td>0.0</td>\n      <td>postcard finn's motel</td>\n      <td>postcard finn's motel</td>\n      <td>postcard finn's motel</td>\n    </tr>\n    <tr>\n      <th>...</th>\n      <td>...</td>\n      <td>...</td>\n      <td>...</td>\n      <td>...</td>\n      <td>...</td>\n      <td>...</td>\n      <td>...</td>\n      <td>...</td>\n      <td>...</td>\n      <td>...</td>\n      <td>...</td>\n      <td>...</td>\n      <td>...</td>\n      <td>...</td>\n    </tr>\n    <tr>\n      <th>23315</th>\n      <td>258287</td>\n      <td>I Think I'm In Trouble</td>\n      <td>Exposé</td>\n      <td>i think i'm in trouble exposé</td>\n      <td>us</td>\n      <td>i think i'm in trouble exposé</td>\n      <td>i think i'm in trouble expose</td>\n      <td>5kJskmLBJPd5KeiSRmBKA2</td>\n      <td>I Think I'm In Trouble</td>\n      <td>Exposé</td>\n      <td>16.0</td>\n      <td>i think i'm in trouble exposé</td>\n      <td>i think i'm in trouble exposé</td>\n      <td>i think i'm in trouble expose</td>\n    </tr>\n    <tr>\n      <th>23316</th>\n      <td>801591</td>\n      <td>Subtellite (Argy Remix)</td>\n      <td>Timo Maas</td>\n      <td>subtellite (argy remix) timo maas</td>\n      <td>us</td>\n      <td>subtellite  timo maas</td>\n      <td>subtellite  timo maas</td>\n      <td>4zCIw0L2LymZ4iHSU0T9Et</td>\n      <td>Subtellite</td>\n      <td>Timo Maas</td>\n      <td>16.0</td>\n      <td>subtellite timo maas</td>\n      <td>subtellite timo maas</td>\n      <td>subtellite timo maas</td>\n    </tr>\n    <tr>\n      <th>23317</th>\n      <td>862112</td>\n      <td>Bill Gates_ komm...</td>\n      <td>Welle: Erdball</td>\n      <td>bill gates_ komm... welle: erdball</td>\n      <td>us</td>\n      <td>bill gates_ komm... welle: erdball</td>\n      <td>bill gates_ komm... welle: erdball</td>\n      <td>0qBxAcenqF2lwbGi0HRZpW</td>\n      <td>Bill Gates, komm fick mit mir!</td>\n      <td>Welle: Erdball</td>\n      <td>15.0</td>\n      <td>bill gates, komm fick mit mir! welle: erdball</td>\n      <td>bill gates, komm fick mit mir! welle: erdball</td>\n      <td>bill gates, komm fick mit mir! welle: erdball</td>\n    </tr>\n    <tr>\n      <th>23318</th>\n      <td>286275</td>\n      <td>Love Found Me</td>\n      <td>DecembeRadio</td>\n      <td>love found me decemberadio</td>\n      <td>us</td>\n      <td>love found me decemberadio</td>\n      <td>love found me decemberadio</td>\n      <td>3O9TJ95zrSqlg5Qk9BBq4V</td>\n      <td>Love Found Me</td>\n      <td>DecembeRadio</td>\n      <td>14.0</td>\n      <td>love found me decemberadio</td>\n      <td>love found me decemberadio</td>\n      <td>love found me decemberadio</td>\n    </tr>\n    <tr>\n      <th>23319</th>\n      <td>335416</td>\n      <td>Master &amp; Servant</td>\n      <td>Transwave</td>\n      <td>master &amp; servant transwave</td>\n      <td>us</td>\n      <td>master &amp; servant transwave</td>\n      <td>master &amp; servant transwave</td>\n      <td>0xpLHUe3nyQO1ObHNJWSsB</td>\n      <td>Master &amp; Servant</td>\n      <td>Black &amp; White</td>\n      <td>0.0</td>\n      <td>master &amp; servant black &amp; white</td>\n      <td>master &amp; servant black &amp; white</td>\n      <td>master &amp; servant black &amp; white</td>\n    </tr>\n  </tbody>\n</table>\n<p>23320 rows × 14 columns</p>\n</div>"
     },
     "execution_count": 109,
     "metadata": {},
     "output_type": "execute_result"
    }
   ],
   "source": [
    "## drop before writing it again\n",
    "threshold_df = threshold_df.drop(\"JWdistance\", axis=1)\n",
    "threshold_df"
   ],
   "metadata": {
    "collapsed": false,
    "pycharm": {
     "name": "#%%\n"
    }
   }
  },
  {
   "cell_type": "code",
   "execution_count": 110,
   "outputs": [],
   "source": [
    "# threshold_df.to_csv(\"data/dataSpotifyJW.csv\", index=False)\n"
   ],
   "metadata": {
    "collapsed": false,
    "pycharm": {
     "name": "#%%\n"
    }
   }
  }
 ],
 "metadata": {
  "kernelspec": {
   "display_name": "Python 3",
   "language": "python",
   "name": "python3"
  },
  "language_info": {
   "codemirror_mode": {
    "name": "ipython",
    "version": 2
   },
   "file_extension": ".py",
   "mimetype": "text/x-python",
   "name": "python",
   "nbconvert_exporter": "python",
   "pygments_lexer": "ipython2",
   "version": "2.7.6"
  }
 },
 "nbformat": 4,
 "nbformat_minor": 0
}