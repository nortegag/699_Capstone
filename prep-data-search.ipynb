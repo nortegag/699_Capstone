{
 "metadata": {
  "language_info": {
   "codemirror_mode": {
    "name": "ipython",
    "version": 3
   },
   "file_extension": ".py",
   "mimetype": "text/x-python",
   "name": "python",
   "nbconvert_exporter": "python",
   "pygments_lexer": "ipython3",
   "version": "3.8.5-final"
  },
  "orig_nbformat": 2,
  "kernelspec": {
   "name": "python3",
   "language": "python",
   "display_name": "Python 3"
  }
 },
 "nbformat": 4,
 "nbformat_minor": 2,
 "cells": [
  {
   "source": [
    "# Initial Data Pre-Processing and Feature Engineering\n",
    "- Preparing Data for ground truth retrieval (Spotify API popularity score)\n",
    "- Further EDA as needed to understand our variables\n",
    "- This process will be used for entire dataset"
   ],
   "cell_type": "markdown",
   "metadata": {}
  },
  {
   "cell_type": "code",
   "execution_count": 33,
   "metadata": {},
   "outputs": [],
   "source": [
    "import pandas as pd\n",
    "import matplotlib.pyplot as plt\n",
    "import re\n",
    "\n",
    "from langdetect import detect\n",
    "from langdetect import DetectorFactory\n",
    "\n",
    "from tqdm.notebook import tqdm"
   ]
  },
  {
   "cell_type": "code",
   "execution_count": 62,
   "metadata": {},
   "outputs": [],
   "source": [
    "DetectorFactory.seed = 0"
   ]
  },
  {
   "cell_type": "code",
   "execution_count": 78,
   "metadata": {},
   "outputs": [
    {
     "name": "stdout",
     "output_type": "stream",
     "text": [
      "CPU times: user 5.31 s, sys: 420 ms, total: 5.73 s\n",
      "Wall time: 5.97 s\n"
     ]
    },
    {
     "data": {
      "text/plain": "(1064090, 22)"
     },
     "execution_count": 78,
     "metadata": {},
     "output_type": "execute_result"
    }
   ],
   "source": [
    "%%time\n",
    "## read in SongCSV data\n",
    "df = pd.read_csv(\"data/SongCSVFull.csv\")\n",
    "df.shape"
   ]
  },
  {
   "cell_type": "code",
   "execution_count": 79,
   "metadata": {},
   "outputs": [],
   "source": [
    "df = df.sample(33000, random_state=0).reset_index(drop=True)\n",
    "\n",
    "df.SongNumber = [int(i) if i.isnumeric() else 0 for i in df.SongNumber.values]\n",
    "df = df[df.SongNumber != 0]"
   ]
  },
  {
   "cell_type": "code",
   "execution_count": 80,
   "outputs": [
    {
     "data": {
      "text/plain": "       SongNumber              SongID   AlbumID  \\\n29268      471121  SOEHSUK12A8C14072B  220815.0   \n25713      755065  SOPOKQI12A6D4F69B7   22556.0   \n4727       603405  SOHYVSS12AF72A7DD2  618593.0   \n\n                                          AlbumName            ArtistID  \\\n29268                          Noir Desir En Public  ARWN52K1187B9B58FF   \n25713                        All Time Greatest Hits  AR0K52Y1187B9B69A6   \n4727   The Chronicles_ Volume 2 - Chopped & Screwed  ARBXXYJ11F4C83D566   \n\n       ArtistLatitude  ArtistLocation  ArtistLongitude     ArtistName  \\\n29268             NaN              FR              NaN     Noir Désir   \n25713        34.05349  Los Angeles CA       -118.24532  The Lettermen   \n4727              NaN           Texas              NaN       Lil Keke   \n\n       Danceability  ...  KeySignatureConfidence    Tempo  TimeSignature  \\\n29268           0.0  ...                   0.292  105.302            4.0   \n25713           0.0  ...                   0.297   98.708            4.0   \n4727            0.0  ...                   0.155  148.477            4.0   \n\n       TimeSignatureConfidence  \\\n29268                    1.000   \n25713                    0.809   \n4727                     0.478   \n\n                                                   Title    Year  \\\n29268                               Le Vent Nous Portera  2001.0   \n25713  Traces/Memories (Medley) (Digitally Remastered...     0.0   \n4727                               Platinum In Da Ghetto     0.0   \n\n      song_hotttnesss  artist_hotttnesss  \\\n29268        0.840364           0.463727   \n25713        0.000000           0.367507   \n4727              NaN           0.410213   \n\n                                           artist_mbtags  artist_mbtags_count  \n29268  ['french' 'fran\\xc3\\xa7ais' 'rock' 'france' 'f...                 70.0  \n25713                                                 []                  2.0  \n4727                                                  []                  2.0  \n\n[3 rows x 22 columns]",
      "text/html": "<div>\n<style scoped>\n    .dataframe tbody tr th:only-of-type {\n        vertical-align: middle;\n    }\n\n    .dataframe tbody tr th {\n        vertical-align: top;\n    }\n\n    .dataframe thead th {\n        text-align: right;\n    }\n</style>\n<table border=\"1\" class=\"dataframe\">\n  <thead>\n    <tr style=\"text-align: right;\">\n      <th></th>\n      <th>SongNumber</th>\n      <th>SongID</th>\n      <th>AlbumID</th>\n      <th>AlbumName</th>\n      <th>ArtistID</th>\n      <th>ArtistLatitude</th>\n      <th>ArtistLocation</th>\n      <th>ArtistLongitude</th>\n      <th>ArtistName</th>\n      <th>Danceability</th>\n      <th>...</th>\n      <th>KeySignatureConfidence</th>\n      <th>Tempo</th>\n      <th>TimeSignature</th>\n      <th>TimeSignatureConfidence</th>\n      <th>Title</th>\n      <th>Year</th>\n      <th>song_hotttnesss</th>\n      <th>artist_hotttnesss</th>\n      <th>artist_mbtags</th>\n      <th>artist_mbtags_count</th>\n    </tr>\n  </thead>\n  <tbody>\n    <tr>\n      <th>29268</th>\n      <td>471121</td>\n      <td>SOEHSUK12A8C14072B</td>\n      <td>220815.0</td>\n      <td>Noir Desir En Public</td>\n      <td>ARWN52K1187B9B58FF</td>\n      <td>NaN</td>\n      <td>FR</td>\n      <td>NaN</td>\n      <td>Noir Désir</td>\n      <td>0.0</td>\n      <td>...</td>\n      <td>0.292</td>\n      <td>105.302</td>\n      <td>4.0</td>\n      <td>1.000</td>\n      <td>Le Vent Nous Portera</td>\n      <td>2001.0</td>\n      <td>0.840364</td>\n      <td>0.463727</td>\n      <td>['french' 'fran\\xc3\\xa7ais' 'rock' 'france' 'f...</td>\n      <td>70.0</td>\n    </tr>\n    <tr>\n      <th>25713</th>\n      <td>755065</td>\n      <td>SOPOKQI12A6D4F69B7</td>\n      <td>22556.0</td>\n      <td>All Time Greatest Hits</td>\n      <td>AR0K52Y1187B9B69A6</td>\n      <td>34.05349</td>\n      <td>Los Angeles CA</td>\n      <td>-118.24532</td>\n      <td>The Lettermen</td>\n      <td>0.0</td>\n      <td>...</td>\n      <td>0.297</td>\n      <td>98.708</td>\n      <td>4.0</td>\n      <td>0.809</td>\n      <td>Traces/Memories (Medley) (Digitally Remastered...</td>\n      <td>0.0</td>\n      <td>0.000000</td>\n      <td>0.367507</td>\n      <td>[]</td>\n      <td>2.0</td>\n    </tr>\n    <tr>\n      <th>4727</th>\n      <td>603405</td>\n      <td>SOHYVSS12AF72A7DD2</td>\n      <td>618593.0</td>\n      <td>The Chronicles_ Volume 2 - Chopped &amp; Screwed</td>\n      <td>ARBXXYJ11F4C83D566</td>\n      <td>NaN</td>\n      <td>Texas</td>\n      <td>NaN</td>\n      <td>Lil Keke</td>\n      <td>0.0</td>\n      <td>...</td>\n      <td>0.155</td>\n      <td>148.477</td>\n      <td>4.0</td>\n      <td>0.478</td>\n      <td>Platinum In Da Ghetto</td>\n      <td>0.0</td>\n      <td>NaN</td>\n      <td>0.410213</td>\n      <td>[]</td>\n      <td>2.0</td>\n    </tr>\n  </tbody>\n</table>\n<p>3 rows × 22 columns</p>\n</div>"
     },
     "execution_count": 80,
     "metadata": {},
     "output_type": "execute_result"
    }
   ],
   "source": [
    "df.sample(3)"
   ],
   "metadata": {
    "collapsed": false,
    "pycharm": {
     "name": "#%%\n"
    }
   }
  },
  {
   "cell_type": "code",
   "execution_count": 81,
   "metadata": {},
   "outputs": [
    {
     "data": {
      "text/plain": "Index(['SongNumber', 'SongID', 'AlbumID', 'AlbumName', 'ArtistID',\n       'ArtistLatitude', 'ArtistLocation', 'ArtistLongitude', 'ArtistName',\n       'Danceability', 'Duration', 'KeySignature', 'KeySignatureConfidence',\n       'Tempo', 'TimeSignature', 'TimeSignatureConfidence', 'Title', 'Year',\n       'song_hotttnesss', 'artist_hotttnesss', 'artist_mbtags',\n       'artist_mbtags_count'],\n      dtype='object')"
     },
     "execution_count": 81,
     "metadata": {},
     "output_type": "execute_result"
    }
   ],
   "source": [
    "df.columns"
   ]
  },
  {
   "cell_type": "code",
   "execution_count": 82,
   "metadata": {},
   "outputs": [
    {
     "data": {
      "text/plain": "       SongNumber                                              Title  \\\n3458       990129                      Some Broken Hearts Never Mend   \n30281      323584           How Much Is That Hound Dog In The Window   \n3230       982365                                         Wanderment   \n20535      587456                                             Dublin   \n8671       533360                                           100 Feet   \n23964      247066                                   22 Days Too Long   \n11013      666199                          I Can See - Album Version   \n30556      525061                                     Cheek To Cheek   \n21317      589804                                     Bassdusche 2K9   \n18411       18311  Pray For The Morning (Tunnel Vision Album Vers...   \n\n              ArtistName  \n3458       Brendan Shine  \n30281     Homer & Jethro  \n3230   Winifred Phillips  \n20535         Thin Lizzy  \n8671              T-Rock  \n23964          Adam Hood  \n11013        David Meece  \n30556       Steve Tyrell  \n21317            Ziggy X  \n18411        Tunnel Rats  ",
      "text/html": "<div>\n<style scoped>\n    .dataframe tbody tr th:only-of-type {\n        vertical-align: middle;\n    }\n\n    .dataframe tbody tr th {\n        vertical-align: top;\n    }\n\n    .dataframe thead th {\n        text-align: right;\n    }\n</style>\n<table border=\"1\" class=\"dataframe\">\n  <thead>\n    <tr style=\"text-align: right;\">\n      <th></th>\n      <th>SongNumber</th>\n      <th>Title</th>\n      <th>ArtistName</th>\n    </tr>\n  </thead>\n  <tbody>\n    <tr>\n      <th>3458</th>\n      <td>990129</td>\n      <td>Some Broken Hearts Never Mend</td>\n      <td>Brendan Shine</td>\n    </tr>\n    <tr>\n      <th>30281</th>\n      <td>323584</td>\n      <td>How Much Is That Hound Dog In The Window</td>\n      <td>Homer &amp; Jethro</td>\n    </tr>\n    <tr>\n      <th>3230</th>\n      <td>982365</td>\n      <td>Wanderment</td>\n      <td>Winifred Phillips</td>\n    </tr>\n    <tr>\n      <th>20535</th>\n      <td>587456</td>\n      <td>Dublin</td>\n      <td>Thin Lizzy</td>\n    </tr>\n    <tr>\n      <th>8671</th>\n      <td>533360</td>\n      <td>100 Feet</td>\n      <td>T-Rock</td>\n    </tr>\n    <tr>\n      <th>23964</th>\n      <td>247066</td>\n      <td>22 Days Too Long</td>\n      <td>Adam Hood</td>\n    </tr>\n    <tr>\n      <th>11013</th>\n      <td>666199</td>\n      <td>I Can See - Album Version</td>\n      <td>David Meece</td>\n    </tr>\n    <tr>\n      <th>30556</th>\n      <td>525061</td>\n      <td>Cheek To Cheek</td>\n      <td>Steve Tyrell</td>\n    </tr>\n    <tr>\n      <th>21317</th>\n      <td>589804</td>\n      <td>Bassdusche 2K9</td>\n      <td>Ziggy X</td>\n    </tr>\n    <tr>\n      <th>18411</th>\n      <td>18311</td>\n      <td>Pray For The Morning (Tunnel Vision Album Vers...</td>\n      <td>Tunnel Rats</td>\n    </tr>\n  </tbody>\n</table>\n</div>"
     },
     "execution_count": 82,
     "metadata": {},
     "output_type": "execute_result"
    }
   ],
   "source": [
    "## columns used for the search, will create a searchStr column with normalized text to pass into Spotify API\n",
    "search_cols = [\"SongNumber\", \"Title\", \"ArtistName\"]\n",
    "df.sample(10)[search_cols]"
   ]
  },
  {
   "cell_type": "code",
   "execution_count": 83,
   "metadata": {},
   "outputs": [
    {
     "name": "stderr",
     "output_type": "stream",
     "text": [
      "<ipython-input-83-7ae850c0000e>:5: SettingWithCopyWarning: \n",
      "A value is trying to be set on a copy of a slice from a DataFrame.\n",
      "Try using .loc[row_indexer,col_indexer] = value instead\n",
      "\n",
      "See the caveats in the documentation: https://pandas.pydata.org/pandas-docs/stable/user_guide/indexing.html#returning-a-view-versus-a-copy\n",
      "  df_for_search[\"SearchStr\"] = df_for_search[\"Title\"] + \" \" + df_for_search[\"ArtistName\"]\n",
      "<ipython-input-83-7ae850c0000e>:6: SettingWithCopyWarning: \n",
      "A value is trying to be set on a copy of a slice from a DataFrame.\n",
      "Try using .loc[row_indexer,col_indexer] = value instead\n",
      "\n",
      "See the caveats in the documentation: https://pandas.pydata.org/pandas-docs/stable/user_guide/indexing.html#returning-a-view-versus-a-copy\n",
      "  df_for_search[\"SearchStr\"] = df_for_search[\"SearchStr\"].apply(lambda x: str(x).lower())\n"
     ]
    }
   ],
   "source": [
    "## get df search subset\n",
    "df_for_search = df[search_cols]#.sample(1000)\n",
    "\n",
    "## create SearchStr variable, standardize and lower\n",
    "df_for_search[\"SearchStr\"] = df_for_search[\"Title\"] + \" \" + df_for_search[\"ArtistName\"]\n",
    "df_for_search[\"SearchStr\"] = df_for_search[\"SearchStr\"].apply(lambda x: str(x).lower())"
   ]
  },
  {
   "cell_type": "code",
   "execution_count": 84,
   "metadata": {},
   "outputs": [
    {
     "data": {
      "text/plain": "       SongNumber                             Title      ArtistName  \\\n24640      994339                 Let's Get Started      Commodores   \n60         595356                      Så Det På Tv  Postgirobygget   \n5614       494962  Mark Westlife Interviews Mankind      Mankind DC   \n\n                                         SearchStr  \n24640                 let's get started commodores  \n60                     så det på tv postgirobygget  \n5614   mark westlife interviews mankind mankind dc  ",
      "text/html": "<div>\n<style scoped>\n    .dataframe tbody tr th:only-of-type {\n        vertical-align: middle;\n    }\n\n    .dataframe tbody tr th {\n        vertical-align: top;\n    }\n\n    .dataframe thead th {\n        text-align: right;\n    }\n</style>\n<table border=\"1\" class=\"dataframe\">\n  <thead>\n    <tr style=\"text-align: right;\">\n      <th></th>\n      <th>SongNumber</th>\n      <th>Title</th>\n      <th>ArtistName</th>\n      <th>SearchStr</th>\n    </tr>\n  </thead>\n  <tbody>\n    <tr>\n      <th>24640</th>\n      <td>994339</td>\n      <td>Let's Get Started</td>\n      <td>Commodores</td>\n      <td>let's get started commodores</td>\n    </tr>\n    <tr>\n      <th>60</th>\n      <td>595356</td>\n      <td>Så Det På Tv</td>\n      <td>Postgirobygget</td>\n      <td>så det på tv postgirobygget</td>\n    </tr>\n    <tr>\n      <th>5614</th>\n      <td>494962</td>\n      <td>Mark Westlife Interviews Mankind</td>\n      <td>Mankind DC</td>\n      <td>mark westlife interviews mankind mankind dc</td>\n    </tr>\n  </tbody>\n</table>\n</div>"
     },
     "execution_count": 84,
     "metadata": {},
     "output_type": "execute_result"
    }
   ],
   "source": [
    "## remova nans in search string\n",
    "df_for_search = df_for_search.dropna(subset=[\"SearchStr\"])\n",
    "df_for_search.sample(3)"
   ]
  },
  {
   "cell_type": "code",
   "execution_count": 85,
   "outputs": [
    {
     "data": {
      "text/plain": "(31054, 4)"
     },
     "execution_count": 85,
     "metadata": {},
     "output_type": "execute_result"
    }
   ],
   "source": [
    "df_for_search.shape"
   ],
   "metadata": {
    "collapsed": false,
    "pycharm": {
     "name": "#%%\n"
    }
   }
  },
  {
   "cell_type": "code",
   "execution_count": 86,
   "outputs": [],
   "source": [
    "## only SearchStr with letters, langdetect fails if not\n",
    "# bool(re.match('^(?=.*[a-zA-Z])', \" \"))"
   ],
   "metadata": {
    "collapsed": false,
    "pycharm": {
     "name": "#%%\n"
    }
   }
  },
  {
   "cell_type": "code",
   "execution_count": 87,
   "outputs": [
    {
     "data": {
      "text/plain": "  0%|          | 0/31054 [00:00<?, ?it/s]",
      "application/vnd.jupyter.widget-view+json": {
       "version_major": 2,
       "version_minor": 0,
       "model_id": "adb604d7f15947518ebb2cb77f95b6a5"
      }
     },
     "metadata": {},
     "output_type": "display_data"
    }
   ],
   "source": [
    "## adding language/market feature to our dataset, using SearchStr as input\n",
    "## we filtered out target markets to include only a few\n",
    "\n",
    "target_markets = [\"en\", \"es\", \"fr\", \"it\", \"nl\", \"pt\"] # 'en' is really just 'us' though; can still add to this\n",
    "market_column = []\n",
    "\n",
    "# see progress bar below\n",
    "for i in tqdm(df_for_search.SearchStr.values):\n",
    "\n",
    "    if bool(re.match('^(?=.*[a-zA-Z])', i)):\n",
    "\n",
    "        market = detect(i)\n",
    "\n",
    "        if market not in target_markets:\n",
    "            market_column.append(\"us\")\n",
    "\n",
    "        elif market in target_markets:\n",
    "            if market == \"en\":\n",
    "                market_column.append(\"us\")\n",
    "            else:\n",
    "                market_column.append(market)\n",
    "\n",
    "    else:\n",
    "        print(\"no RegEx match...\")\n",
    "        market_column.append(\"none\")\n",
    "        "
   ],
   "metadata": {
    "collapsed": false,
    "pycharm": {
     "name": "#%%\n"
    }
   }
  },
  {
   "cell_type": "code",
   "execution_count": 88,
   "metadata": {},
   "outputs": [],
   "source": [
    "df_for_search[\"market\"] = market_column"
   ]
  },
  {
   "cell_type": "code",
   "execution_count": 89,
   "metadata": {},
   "outputs": [
    {
     "data": {
      "text/plain": "<Figure size 720x360 with 1 Axes>",
      "image/png": "[encoded data removed]"
     },
     "metadata": {
      "needs_background": "light"
     },
     "output_type": "display_data"
    }
   ],
   "source": [
    "df_for_search.market.value_counts(sort=True).plot.bar(figsize=(10,5))\n",
    "plt.title(\"Distribution of markets, now filtered\");"
   ]
  },
  {
   "cell_type": "code",
   "execution_count": 90,
   "metadata": {},
   "outputs": [],
   "source": [
    "df_for_search.head(2)\n",
    "## filter out those that didn't return market\n",
    "df_for_search = df_for_search[df_for_search.market != \"none\"]"
   ]
  },
  {
   "cell_type": "code",
   "execution_count": 91,
   "metadata": {},
   "outputs": [
    {
     "data": {
      "text/plain": "       SongNumber               Title      ArtistName  \\\n32499      449733  Give Thanks to Jah  Larry Marshall   \n\n                               SearchStr market  \n32499  give thanks to jah larry marshall     us  ",
      "text/html": "<div>\n<style scoped>\n    .dataframe tbody tr th:only-of-type {\n        vertical-align: middle;\n    }\n\n    .dataframe tbody tr th {\n        vertical-align: top;\n    }\n\n    .dataframe thead th {\n        text-align: right;\n    }\n</style>\n<table border=\"1\" class=\"dataframe\">\n  <thead>\n    <tr style=\"text-align: right;\">\n      <th></th>\n      <th>SongNumber</th>\n      <th>Title</th>\n      <th>ArtistName</th>\n      <th>SearchStr</th>\n      <th>market</th>\n    </tr>\n  </thead>\n  <tbody>\n    <tr>\n      <th>32499</th>\n      <td>449733</td>\n      <td>Give Thanks to Jah</td>\n      <td>Larry Marshall</td>\n      <td>give thanks to jah larry marshall</td>\n      <td>us</td>\n    </tr>\n  </tbody>\n</table>\n</div>"
     },
     "execution_count": 91,
     "metadata": {},
     "output_type": "execute_result"
    }
   ],
   "source": [
    "df_for_search.sample(1)"
   ]
  },
  {
   "cell_type": "code",
   "execution_count": 92,
   "outputs": [],
   "source": [
    "# df_for_search.to_csv(\"data/search_subset.csv\", index=False)"
   ],
   "metadata": {
    "collapsed": false,
    "pycharm": {
     "name": "#%%\n"
    }
   }
  }
 ]
}